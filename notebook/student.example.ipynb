{
 "cells": [
  {
   "cell_type": "code",
   "execution_count": 3,
   "metadata": {},
   "outputs": [],
   "source": [
    "import os\n",
    "import sys\n",
    "# To run this notebook inside here, we add the project to sys.path\n",
    "sys.path.append('/'.join(os.getcwd().split('/')[:-1]))\n",
    "\n",
    "from jn_tester.student.test import run_test, submit_test"
   ]
  },
  {
   "cell_type": "code",
   "execution_count": 4,
   "metadata": {},
   "outputs": [
    {
     "name": "stdout",
     "output_type": "stream",
     "text": [
      "{'results': [1.0, 0.0, 0.0], 'performance': [{'time': 0.002985, 'memory': 84.88}, {'time': 0.004261, 'memory': 84.89}, {'time': 0.00433, 'memory': 84.9}]}\n",
      "{'results': [0.0, 0.0, 0.0], 'performance': [{'time': 0.001682, 'memory': 84.91}, {'time': 0.003307, 'memory': 84.92}, {'time': 0.003391, 'memory': 84.92}]}\n",
      "\n",
      "Showing results: <lambda>\n",
      "--------------------\n",
      "Final score:  0%\n"
     ]
    },
    {
     "name": "stderr",
     "output_type": "stream",
     "text": [
      "/home/rdenadai/src/jn_tester/wip_rdenadai_2017/jn_tester/jn_tester/student/models.py:30: UserWarning: OSError... [Errno 25] Inappropriate ioctl for device\n",
      "  warnings.warn(\"OSError... {0}\".format(err))\n"
     ]
    },
    {
     "data": {
      "text/html": [
       "<div>\n",
       "<style>\n",
       "    .dataframe thead tr:only-child th {\n",
       "        text-align: right;\n",
       "    }\n",
       "\n",
       "    .dataframe thead th {\n",
       "        text-align: left;\n",
       "    }\n",
       "\n",
       "    .dataframe tbody tr th {\n",
       "        vertical-align: top;\n",
       "    }\n",
       "</style>\n",
       "<table border=\"1\" class=\"dataframe\">\n",
       "  <thead>\n",
       "    <tr style=\"text-align: right;\">\n",
       "      <th></th>\n",
       "      <th>Score</th>\n",
       "      <th>Time</th>\n",
       "      <th>Memory</th>\n",
       "    </tr>\n",
       "  </thead>\n",
       "  <tbody>\n",
       "    <tr>\n",
       "      <th>Test 1</th>\n",
       "      <td>0%</td>\n",
       "      <td>0.001702 ms</td>\n",
       "      <td>84.93 Mb</td>\n",
       "    </tr>\n",
       "    <tr>\n",
       "      <th>Test 2</th>\n",
       "      <td>0%</td>\n",
       "      <td>0.003553 ms</td>\n",
       "      <td>84.94 Mb</td>\n",
       "    </tr>\n",
       "    <tr>\n",
       "      <th>Test 3</th>\n",
       "      <td>0%</td>\n",
       "      <td>0.003 ms</td>\n",
       "      <td>84.94 Mb</td>\n",
       "    </tr>\n",
       "  </tbody>\n",
       "</table>\n",
       "</div>"
      ],
      "text/plain": [
       "       Score         Time    Memory\n",
       "Test 1    0%  0.001702 ms  84.93 Mb\n",
       "Test 2    0%  0.003553 ms  84.94 Mb\n",
       "Test 3    0%     0.003 ms  84.94 Mb"
      ]
     },
     "metadata": {},
     "output_type": "display_data"
    },
    {
     "name": "stdout",
     "output_type": "stream",
     "text": [
      "\n",
      "Showing results: vezes_2\n",
      "--------------------\n",
      "Final score:  100%\n",
      "1 :  [1.0/1.0] => OK\n",
      " - time:  0.002001  ms\n",
      " - memory:  86.23  Mb\n",
      "2 :  [1.0/1.0] => OK\n",
      " - time:  0.003174  ms\n",
      " - memory:  86.23  Mb\n",
      "3 :  [1.0/1.0] => OK\n",
      " - time:  0.003213  ms\n",
      " - memory:  86.23  Mb\n"
     ]
    }
   ],
   "source": [
    "def vezes_2(n):\n",
    "    return 2 * n\n",
    "\n",
    "print(run_test('dobro.test', fnc=lambda n: 2 ** n))\n",
    "print(run_test('dobro.test', fnc=lambda n: 3 * n))\n",
    "\n",
    "submit_test('dobro.test', fnc=lambda n: 3 * n, presentation_format='table')\n",
    "submit_test('dobro.test', fnc=vezes_2, presentation_format='text')"
   ]
  },
  {
   "cell_type": "code",
   "execution_count": null,
   "metadata": {
    "collapsed": true
   },
   "outputs": [],
   "source": []
  }
 ],
 "metadata": {
  "kernelspec": {
   "display_name": "Python 3",
   "language": "python",
   "name": "python3"
  },
  "language_info": {
   "codemirror_mode": {
    "name": "ipython",
    "version": 3
   },
   "file_extension": ".py",
   "mimetype": "text/x-python",
   "name": "python",
   "nbconvert_exporter": "python",
   "pygments_lexer": "ipython3",
   "version": "3.6.1"
  }
 },
 "nbformat": 4,
 "nbformat_minor": 2
}
