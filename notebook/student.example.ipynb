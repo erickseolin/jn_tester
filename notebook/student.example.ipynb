{
 "cells": [
  {
   "cell_type": "code",
   "execution_count": 7,
   "metadata": {
    "ExecuteTime": {
     "end_time": "2017-07-26T12:12:08.024396Z",
     "start_time": "2017-07-26T12:12:08.020551Z"
    },
    "collapsed": true
   },
   "outputs": [],
   "source": [
    "import os\n",
    "import sys\n",
    "# To run this notebook inside here, we add the project to sys.path\n",
    "sys.path.append('/'.join(os.getcwd().split('/')[:-1]))\n",
    "\n",
    "from jn_tester.student.test import run_test, submit_test"
   ]
  },
  {
   "cell_type": "code",
   "execution_count": 8,
   "metadata": {
    "ExecuteTime": {
     "end_time": "2017-07-26T12:12:08.251504Z",
     "start_time": "2017-07-26T12:12:08.249351Z"
    },
    "collapsed": true
   },
   "outputs": [],
   "source": [
    "def vezes_2(n):\n",
    "    return 2 * n"
   ]
  },
  {
   "cell_type": "code",
   "execution_count": 9,
   "metadata": {
    "ExecuteTime": {
     "end_time": "2017-07-26T12:12:09.013776Z",
     "start_time": "2017-07-26T12:12:08.617021Z"
    }
   },
   "outputs": [
    {
     "name": "stdout",
     "output_type": "stream",
     "text": [
      "{'results': [1.0, 0.0, 0.0], 'performance': [{'time': 0.003057, 'memory': 93.36}, {'time': 0.004597, 'memory': 93.36}, {'time': 0.004716, 'memory': 93.36}]}\n",
      "{'results': [1.0, 1.0, 1.0], 'performance': [{'time': 0.00168, 'memory': 93.36}, {'time': 0.003459, 'memory': 93.36}, {'time': 0.003021, 'memory': 93.36}]}\n",
      "{'results': [0.0, 0.0, 0.0], 'performance': [{'time': 0.001663, 'memory': 93.36}, {'time': 0.003043, 'memory': 93.36}, {'time': 0.002887, 'memory': 93.36}]}\n"
     ]
    }
   ],
   "source": [
    "print(run_test('dobro', fnc=lambda n: 2 ** n))\n",
    "print(run_test('dobro', fnc=lambda n: 2 * n))\n",
    "print(run_test('dobro', fnc=lambda n: 3 * n))"
   ]
  },
  {
   "cell_type": "code",
   "execution_count": 10,
   "metadata": {
    "ExecuteTime": {
     "end_time": "2017-07-26T12:12:09.879996Z",
     "start_time": "2017-07-26T12:12:09.461994Z"
    }
   },
   "outputs": [
    {
     "name": "stdout",
     "output_type": "stream",
     "text": [
      "\n",
      "Showing results: <lambda>\n",
      "--------------------\n",
      "Final score:  100%\n"
     ]
    },
    {
     "name": "stderr",
     "output_type": "stream",
     "text": [
      "/home/rdenadai/programas/vagrant_img/vagrant.machine.puphpet/projetos/jn_tester/jn_tester/student/models.py:30: UserWarning: OSError... [Errno 25] Inappropriate ioctl for device\n",
      "  warnings.warn(\"OSError... {0}\".format(err))\n"
     ]
    },
    {
     "data": {
      "text/html": [
       "<div>\n",
       "<style>\n",
       "    .dataframe thead tr:only-child th {\n",
       "        text-align: right;\n",
       "    }\n",
       "\n",
       "    .dataframe thead th {\n",
       "        text-align: left;\n",
       "    }\n",
       "\n",
       "    .dataframe tbody tr th {\n",
       "        vertical-align: top;\n",
       "    }\n",
       "</style>\n",
       "<table border=\"1\" class=\"dataframe\">\n",
       "  <thead>\n",
       "    <tr style=\"text-align: right;\">\n",
       "      <th></th>\n",
       "      <th>Score</th>\n",
       "      <th>Time</th>\n",
       "      <th>Memory</th>\n",
       "    </tr>\n",
       "  </thead>\n",
       "  <tbody>\n",
       "    <tr>\n",
       "      <th>Test 1</th>\n",
       "      <td>100%</td>\n",
       "      <td>0.001681 ms</td>\n",
       "      <td>93.37 Mb</td>\n",
       "    </tr>\n",
       "    <tr>\n",
       "      <th>Test 2</th>\n",
       "      <td>100%</td>\n",
       "      <td>0.00324 ms</td>\n",
       "      <td>93.37 Mb</td>\n",
       "    </tr>\n",
       "    <tr>\n",
       "      <th>Test 3</th>\n",
       "      <td>100%</td>\n",
       "      <td>0.002947 ms</td>\n",
       "      <td>93.37 Mb</td>\n",
       "    </tr>\n",
       "  </tbody>\n",
       "</table>\n",
       "</div>"
      ],
      "text/plain": [
       "       Score         Time    Memory\n",
       "Test 1  100%  0.001681 ms  93.37 Mb\n",
       "Test 2  100%   0.00324 ms  93.37 Mb\n",
       "Test 3  100%  0.002947 ms  93.37 Mb"
      ]
     },
     "metadata": {},
     "output_type": "display_data"
    },
    {
     "name": "stdout",
     "output_type": "stream",
     "text": [
      "\n",
      "Showing results: <lambda>\n",
      "--------------------\n",
      "Final score:  0%\n"
     ]
    },
    {
     "data": {
      "text/html": [
       "<div>\n",
       "<style>\n",
       "    .dataframe thead tr:only-child th {\n",
       "        text-align: right;\n",
       "    }\n",
       "\n",
       "    .dataframe thead th {\n",
       "        text-align: left;\n",
       "    }\n",
       "\n",
       "    .dataframe tbody tr th {\n",
       "        vertical-align: top;\n",
       "    }\n",
       "</style>\n",
       "<table border=\"1\" class=\"dataframe\">\n",
       "  <thead>\n",
       "    <tr style=\"text-align: right;\">\n",
       "      <th></th>\n",
       "      <th>Score</th>\n",
       "      <th>Time</th>\n",
       "      <th>Memory</th>\n",
       "    </tr>\n",
       "  </thead>\n",
       "  <tbody>\n",
       "    <tr>\n",
       "      <th>Test 1</th>\n",
       "      <td>0%</td>\n",
       "      <td>0.001679 ms</td>\n",
       "      <td>93.39 Mb</td>\n",
       "    </tr>\n",
       "    <tr>\n",
       "      <th>Test 2</th>\n",
       "      <td>0%</td>\n",
       "      <td>0.003506 ms</td>\n",
       "      <td>93.39 Mb</td>\n",
       "    </tr>\n",
       "    <tr>\n",
       "      <th>Test 3</th>\n",
       "      <td>0%</td>\n",
       "      <td>0.003134 ms</td>\n",
       "      <td>93.39 Mb</td>\n",
       "    </tr>\n",
       "  </tbody>\n",
       "</table>\n",
       "</div>"
      ],
      "text/plain": [
       "       Score         Time    Memory\n",
       "Test 1    0%  0.001679 ms  93.39 Mb\n",
       "Test 2    0%  0.003506 ms  93.39 Mb\n",
       "Test 3    0%  0.003134 ms  93.39 Mb"
      ]
     },
     "metadata": {},
     "output_type": "display_data"
    },
    {
     "name": "stdout",
     "output_type": "stream",
     "text": [
      "\n",
      "Showing results: vezes_2\n",
      "--------------------\n",
      "Final score:  100%\n",
      "1 :  [1.0/1.0] => OK\n",
      " - time:  0.002008  ms\n",
      " - memory:  93.4  Mb\n",
      "2 :  [1.0/1.0] => OK\n",
      " - time:  0.00297  ms\n",
      " - memory:  93.4  Mb\n",
      "3 :  [1.0/1.0] => OK\n",
      " - time:  0.00301  ms\n",
      " - memory:  93.4  Mb\n"
     ]
    }
   ],
   "source": [
    "submit_test('dobro', fnc=lambda n: 2 * n, presentation_format='table')\n",
    "submit_test('dobro', fnc=lambda n: 3 * n, presentation_format='table')\n",
    "submit_test('dobro', fnc=vezes_2, presentation_format='text')"
   ]
  },
  {
   "cell_type": "code",
   "execution_count": null,
   "metadata": {
    "collapsed": true
   },
   "outputs": [],
   "source": []
  }
 ],
 "metadata": {
  "kernelspec": {
   "display_name": "Python 3",
   "language": "python",
   "name": "python3"
  },
  "language_info": {
   "codemirror_mode": {
    "name": "ipython",
    "version": 3
   },
   "file_extension": ".py",
   "mimetype": "text/x-python",
   "name": "python",
   "nbconvert_exporter": "python",
   "pygments_lexer": "ipython3",
   "version": "3.6.2"
  },
  "latex_envs": {
   "LaTeX_envs_menu_present": true,
   "autocomplete": true,
   "bibliofile": "biblio.bib",
   "cite_by": "apalike",
   "current_citInitial": 1,
   "eqLabelWithNumbers": true,
   "eqNumInitial": 1,
   "hotkeys": {
    "equation": "Ctrl-E",
    "itemize": "Ctrl-I"
   },
   "labels_anchors": false,
   "latex_user_defs": false,
   "report_style_numbering": false,
   "user_envs_cfg": false
  },
  "toc": {
   "colors": {
    "hover_highlight": "#DAA520",
    "navigate_num": "#000000",
    "navigate_text": "#333333",
    "running_highlight": "#FF0000",
    "selected_highlight": "#FFD700",
    "sidebar_border": "#EEEEEE",
    "wrapper_background": "#FFFFFF"
   },
   "moveMenuLeft": true,
   "nav_menu": {
    "height": "12px",
    "width": "252px"
   },
   "navigate_menu": true,
   "number_sections": true,
   "sideBar": true,
   "threshold": 4,
   "toc_cell": false,
   "toc_section_display": "block",
   "toc_window_display": false,
   "widenNotebook": false
  }
 },
 "nbformat": 4,
 "nbformat_minor": 1
}
