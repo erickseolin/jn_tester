{
 "cells": [
  {
   "cell_type": "code",
   "execution_count": null,
   "metadata": {
    "ExecuteTime": {
     "end_time": "2017-07-03T04:05:18.692811Z",
     "start_time": "2017-07-03T04:05:18.689496Z"
    },
    "collapsed": true
   },
   "outputs": [],
   "source": [
    "import os\n",
    "import sys\n",
    "# To run this notebook inside here, we add the project to sys.path\n",
    "sys.path.append('/'.join(os.getcwd().split('/')[:-1]))\n",
    "\n",
    "from jn_tester.professor.models import TestCase, TestSet\n",
    "from jn_tester.professor.tables import view_complete_table"
   ]
  },
  {
   "cell_type": "code",
   "execution_count": null,
   "metadata": {
    "ExecuteTime": {
     "end_time": "2017-07-03T04:05:18.918454Z",
     "start_time": "2017-07-03T04:05:18.909107Z"
    },
    "collapsed": true
   },
   "outputs": [],
   "source": [
    "def equal(x, y):\n",
    "    return 1.0 if x == y else 0.0\n",
    "\n",
    "def double(b):\n",
    "    return 2*b\n",
    "\n",
    "# Simple test\n",
    "test = TestSet()\n",
    "test.add_new_test_case(TestCase(2, 4, assert_function=lambda x, y: 1.0 if x == y else 0.0))\n",
    "test.add_new_test_case(TestCase({'n': 6}, 12, assert_function=equal))\n",
    "test.add_new_test_case(TestCase({'n': 4}, 8, assert_function=equal))\n",
    "test.save('dobro')"
   ]
  },
  {
   "cell_type": "code",
   "execution_count": null,
   "metadata": {
    "ExecuteTime": {
     "end_time": "2017-07-03T04:05:31.146994Z",
     "start_time": "2017-07-03T04:05:31.137394Z"
    }
   },
   "outputs": [],
   "source": [
    "view_complete_table('dobro', './')"
   ]
  },
  {
   "cell_type": "code",
   "execution_count": null,
   "metadata": {
    "collapsed": true
   },
   "outputs": [],
   "source": []
  }
 ],
 "metadata": {
  "kernelspec": {
   "display_name": "Python 3",
   "language": "python",
   "name": "python3"
  },
  "language_info": {
   "codemirror_mode": {
    "name": "ipython",
    "version": 3
   },
   "file_extension": ".py",
   "mimetype": "text/x-python",
   "name": "python",
   "nbconvert_exporter": "python",
   "pygments_lexer": "ipython3",
   "version": "3.6.1"
  },
  "toc": {
   "colors": {
    "hover_highlight": "#DAA520",
    "running_highlight": "#FF0000",
    "selected_highlight": "#FFD700"
   },
   "moveMenuLeft": true,
   "nav_menu": {
    "height": "12px",
    "width": "252px"
   },
   "navigate_menu": true,
   "number_sections": true,
   "sideBar": true,
   "threshold": 4,
   "toc_cell": false,
   "toc_section_display": "block",
   "toc_window_display": false
  }
 },
 "nbformat": 4,
 "nbformat_minor": 1
}
