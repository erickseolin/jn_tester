{
 "cells": [
  {
   "cell_type": "code",
   "execution_count": 1,
   "metadata": {
    "ExecuteTime": {
     "end_time": "2017-06-29T01:23:55.315479Z",
     "start_time": "2017-06-29T01:23:54.961121Z"
    }
   },
   "outputs": [],
   "source": [
    "import os\n",
    "import sys\n",
    "# To run this notebook inside here, we add the project to sys.path\n",
    "sys.path.append('/'.join(os.getcwd().split('/')[:-3]))\n",
    "\n",
    "from jn_tester.professor.models import TestCase, TestSet\n",
    "from jn_tester.professor.tables import view_complete_table\n",
    "\n",
    "import numpy as np\n",
    "import matplotlib.image as mpimg"
   ]
  },
  {
   "cell_type": "code",
   "execution_count": 2,
   "metadata": {
    "ExecuteTime": {
     "end_time": "2017-06-29T01:23:55.324807Z",
     "start_time": "2017-06-29T01:23:55.316853Z"
    },
    "collapsed": true
   },
   "outputs": [],
   "source": [
    "def assert_fnc(input, output):\n",
    "    import numpy as np\n",
    "    return float(np.array_equal(input, output))\n",
    "\n",
    "def rot_gabarito(f):\n",
    "    g = np.copy(f)\n",
    "    return g.transpose()[:, ::-1]"
   ]
  },
  {
   "cell_type": "code",
   "execution_count": 3,
   "metadata": {
    "ExecuteTime": {
     "end_time": "2017-06-29T01:23:55.409510Z",
     "start_time": "2017-06-29T01:23:55.326860Z"
    },
    "collapsed": true
   },
   "outputs": [],
   "source": [
    "fn = np.arange(35).astype(np.uint8).reshape(5,7)    \n",
    "f = mpimg.imread('data/retina.tif')[64:64+128, :] "
   ]
  },
  {
   "cell_type": "code",
   "execution_count": 4,
   "metadata": {
    "ExecuteTime": {
     "end_time": "2017-06-29T01:23:55.487740Z",
     "start_time": "2017-06-29T01:23:55.411324Z"
    },
    "collapsed": true
   },
   "outputs": [],
   "source": [
    "test = TestSet()\n",
    "test.add_new_test_case(TestCase(fn, rot_gabarito(fn), assert_function=assert_fnc))\n",
    "test.add_new_test_case(TestCase(f, rot_gabarito(f), assert_function=assert_fnc))\n",
    "test.save('rot.test')"
   ]
  },
  {
   "cell_type": "code",
   "execution_count": 5,
   "metadata": {
    "ExecuteTime": {
     "end_time": "2017-06-29T01:23:55.592811Z",
     "start_time": "2017-06-29T01:23:55.490699Z"
    }
   },
   "outputs": [
    {
     "name": "stdout",
     "output_type": "stream",
     "text": [
      "['/home/rdenadai/vagrant/python-dev/jn_tester/tests/notebook/students/.rot.test-rdenadai.score']\n"
     ]
    },
    {
     "data": {
      "text/html": [
       "<table border=\"1\" class=\"dataframe\">\n",
       "  <thead>\n",
       "    <tr style=\"text-align: right;\">\n",
       "      <th>Function Ranking</th>\n",
       "      <th>Function</th>\n",
       "      <th>Author</th>\n",
       "      <th>Test 1: Score</th>\n",
       "      <th>Test 1: Time (ms)</th>\n",
       "      <th>Test 2: Score</th>\n",
       "      <th>Test 2: Time (ms)</th>\n",
       "      <th>Mean Time (ms)</th>\n",
       "      <th>Final Score</th>\n",
       "    </tr>\n",
       "  </thead>\n",
       "  <tbody>\n",
       "    <tr>\n",
       "      <td>1</td>\n",
       "      <td>rotation</td>\n",
       "      <td>rdenadai</td>\n",
       "      <td>1.00</td>\n",
       "      <td>0.04</td>\n",
       "      <td>1.00</td>\n",
       "      <td>0.05</td>\n",
       "      <td>0.04</td>\n",
       "      <td>1.00</td>\n",
       "    </tr>\n",
       "  </tbody>\n",
       "</table>"
      ],
      "text/plain": [
       "<IPython.core.display.HTML object>"
      ]
     },
     "metadata": {},
     "output_type": "display_data"
    }
   ],
   "source": [
    "path = '/'.join(os.getcwd().split('/')[:-1]) + '/*/'\n",
    "view_complete_table('rot.test', path)"
   ]
  },
  {
   "cell_type": "code",
   "execution_count": null,
   "metadata": {
    "collapsed": true
   },
   "outputs": [],
   "source": []
  }
 ],
 "metadata": {
  "kernelspec": {
   "display_name": "Python 3",
   "language": "python",
   "name": "python3"
  },
  "language_info": {
   "codemirror_mode": {
    "name": "ipython",
    "version": 3
   },
   "file_extension": ".py",
   "mimetype": "text/x-python",
   "name": "python",
   "nbconvert_exporter": "python",
   "pygments_lexer": "ipython3",
   "version": "3.6.1"
  },
  "latex_envs": {
   "LaTeX_envs_menu_present": true,
   "autocomplete": true,
   "bibliofile": "biblio.bib",
   "cite_by": "apalike",
   "current_citInitial": 1,
   "eqLabelWithNumbers": true,
   "eqNumInitial": 1,
   "hotkeys": {
    "equation": "Ctrl-E",
    "itemize": "Ctrl-I"
   },
   "labels_anchors": false,
   "latex_user_defs": false,
   "report_style_numbering": false,
   "user_envs_cfg": false
  },
  "toc": {
   "colors": {
    "hover_highlight": "#DAA520",
    "navigate_num": "#000000",
    "navigate_text": "#333333",
    "running_highlight": "#FF0000",
    "selected_highlight": "#FFD700",
    "sidebar_border": "#EEEEEE",
    "wrapper_background": "#FFFFFF"
   },
   "moveMenuLeft": true,
   "nav_menu": {
    "height": "12px",
    "width": "252px"
   },
   "navigate_menu": true,
   "number_sections": true,
   "sideBar": true,
   "threshold": 4,
   "toc_cell": false,
   "toc_section_display": "block",
   "toc_window_display": false,
   "widenNotebook": false
  }
 },
 "nbformat": 4,
 "nbformat_minor": 2
}
