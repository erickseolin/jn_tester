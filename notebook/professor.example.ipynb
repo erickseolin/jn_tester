{
 "cells": [
  {
   "cell_type": "code",
   "execution_count": 6,
   "metadata": {
    "ExecuteTime": {
     "end_time": "2017-06-29T00:25:43.684682Z",
     "start_time": "2017-06-29T00:25:43.670659Z"
    },
    "collapsed": true
   },
   "outputs": [],
   "source": [
    "import os\n",
    "import sys\n",
    "# To run this notebook inside here, we add the project to sys.path\n",
    "sys.path.append('/'.join(os.getcwd().split('/')[:-1]))\n",
    "\n",
    "from jn_tester.professor.models import TestCase, TestSet\n",
    "from jn_tester.professor.tables import view_complete_table"
   ]
  },
  {
   "cell_type": "code",
   "execution_count": 7,
   "metadata": {
    "ExecuteTime": {
     "end_time": "2017-06-29T00:25:44.132255Z",
     "start_time": "2017-06-29T00:25:44.109649Z"
    },
    "collapsed": true
   },
   "outputs": [],
   "source": [
    "def equal(x, y):\n",
    "    return 1.0 if x == y else 0.0\n",
    "\n",
    "def double(b):\n",
    "    return 2*b\n",
    "\n",
    "# Simple test\n",
    "test = TestSet()\n",
    "test.add_new_test_case(TestCase(2, 4, assert_function=lambda x, y: 1.0 if x == y else 0.0))\n",
    "test.add_new_test_case(TestCase({'n': 6}, 12, assert_function=equal))\n",
    "test.add_new_test_case(TestCase({'n': 4}, 8, assert_function=equal))\n",
    "test.save('dobro.test')"
   ]
  },
  {
   "cell_type": "code",
   "execution_count": 8,
   "metadata": {
    "ExecuteTime": {
     "end_time": "2017-06-29T00:25:44.562435Z",
     "start_time": "2017-06-29T00:25:44.544712Z"
    },
    "scrolled": true
   },
   "outputs": [
    {
     "data": {
      "text/html": [
       "<table border=\"1\" class=\"dataframe\">\n",
       "  <thead>\n",
       "    <tr style=\"text-align: right;\">\n",
       "      <th>Function Ranking</th>\n",
       "      <th>Function</th>\n",
       "      <th>Author</th>\n",
       "      <th>Test 1: Score</th>\n",
       "      <th>Test 1: Time (ms)</th>\n",
       "      <th>Test 2: Score</th>\n",
       "      <th>Test 2: Time (ms)</th>\n",
       "      <th>Test 3: Score</th>\n",
       "      <th>Test 3: Time (ms)</th>\n",
       "      <th>Test 4: Score</th>\n",
       "      <th>Test 4: Time (ms)</th>\n",
       "      <th>Test 5: Score</th>\n",
       "      <th>Test 5: Time (ms)</th>\n",
       "      <th>Mean Time (ms)</th>\n",
       "      <th>Final Score</th>\n",
       "    </tr>\n",
       "  </thead>\n",
       "  <tbody>\n",
       "    <tr>\n",
       "      <td>1</td>\n",
       "      <td>dobro.test_fnc_7</td>\n",
       "      <td>angel</td>\n",
       "      <td>0.60</td>\n",
       "      <td>454.10</td>\n",
       "      <td>0.44</td>\n",
       "      <td>264.38</td>\n",
       "      <td>0.78</td>\n",
       "      <td>274.04</td>\n",
       "      <td>0.33</td>\n",
       "      <td>235.48</td>\n",
       "      <td>0.42</td>\n",
       "      <td>387.84</td>\n",
       "      <td>323.17</td>\n",
       "      <td>0.52</td>\n",
       "    </tr>\n",
       "    <tr>\n",
       "      <td>2</td>\n",
       "      <td>dobro.test_fnc_2</td>\n",
       "      <td>colega</td>\n",
       "      <td>0.71</td>\n",
       "      <td>263.58</td>\n",
       "      <td>0.54</td>\n",
       "      <td>327.83</td>\n",
       "      <td>0.31</td>\n",
       "      <td>157.06</td>\n",
       "      <td>0.32</td>\n",
       "      <td>190.74</td>\n",
       "      <td>0.49</td>\n",
       "      <td>189.94</td>\n",
       "      <td>225.83</td>\n",
       "      <td>0.47</td>\n",
       "    </tr>\n",
       "    <tr>\n",
       "      <td>3</td>\n",
       "      <td>dobro.test_fnc_3</td>\n",
       "      <td>careca</td>\n",
       "      <td>0.48</td>\n",
       "      <td>202.12</td>\n",
       "      <td>0.60</td>\n",
       "      <td>187.12</td>\n",
       "      <td>0.42</td>\n",
       "      <td>412.41</td>\n",
       "      <td>0.16</td>\n",
       "      <td>42.08</td>\n",
       "      <td>0.69</td>\n",
       "      <td>91.85</td>\n",
       "      <td>187.12</td>\n",
       "      <td>0.47</td>\n",
       "    </tr>\n",
       "    <tr>\n",
       "      <td>4</td>\n",
       "      <td>&lt;lambda&gt;</td>\n",
       "      <td>rdenadai</td>\n",
       "      <td>1.00</td>\n",
       "      <td>0.00</td>\n",
       "      <td>0.00</td>\n",
       "      <td>0.00</td>\n",
       "      <td>0.00</td>\n",
       "      <td>0.00</td>\n",
       "      <td>0.00</td>\n",
       "      <td>0.33</td>\n",
       "      <td>None</td>\n",
       "      <td>None</td>\n",
       "      <td>None</td>\n",
       "      <td>None</td>\n",
       "    </tr>\n",
       "  </tbody>\n",
       "</table>"
      ],
      "text/plain": [
       "<IPython.core.display.HTML object>"
      ]
     },
     "metadata": {},
     "output_type": "display_data"
    }
   ],
   "source": [
    "base_path = '/'.join(os.getcwd().split('/')[:-1]) + '/**/'\n",
    "view_complete_table('dobro.test', base_path=base_path)"
   ]
  },
  {
   "cell_type": "code",
   "execution_count": null,
   "metadata": {
    "collapsed": true
   },
   "outputs": [],
   "source": []
  }
 ],
 "metadata": {
  "kernelspec": {
   "display_name": "Python 3",
   "language": "python",
   "name": "python3"
  },
  "language_info": {
   "codemirror_mode": {
    "name": "ipython",
    "version": 3
   },
   "file_extension": ".py",
   "mimetype": "text/x-python",
   "name": "python",
   "nbconvert_exporter": "python",
   "pygments_lexer": "ipython3",
   "version": "3.6.1"
  },
  "latex_envs": {
   "LaTeX_envs_menu_present": true,
   "autocomplete": true,
   "bibliofile": "biblio.bib",
   "cite_by": "apalike",
   "current_citInitial": 1,
   "eqLabelWithNumbers": true,
   "eqNumInitial": 1,
   "hotkeys": {
    "equation": "Ctrl-E",
    "itemize": "Ctrl-I"
   },
   "labels_anchors": false,
   "latex_user_defs": false,
   "report_style_numbering": false,
   "user_envs_cfg": false
  },
  "toc": {
   "colors": {
    "hover_highlight": "#DAA520",
    "navigate_num": "#000000",
    "navigate_text": "#333333",
    "running_highlight": "#FF0000",
    "selected_highlight": "#FFD700",
    "sidebar_border": "#EEEEEE",
    "wrapper_background": "#FFFFFF"
   },
   "moveMenuLeft": true,
   "nav_menu": {
    "height": "12px",
    "width": "252px"
   },
   "navigate_menu": true,
   "number_sections": true,
   "sideBar": true,
   "threshold": 4,
   "toc_cell": false,
   "toc_section_display": "block",
   "toc_window_display": false,
   "widenNotebook": false
  }
 },
 "nbformat": 4,
 "nbformat_minor": 1
}
