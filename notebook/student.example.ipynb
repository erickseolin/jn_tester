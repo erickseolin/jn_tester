{
 "cells": [
  {
   "cell_type": "markdown",
   "metadata": {},
   "source": [
    "# Example for the student usage"
   ]
  },
  {
   "cell_type": "markdown",
   "metadata": {},
   "source": [
    "## Imports"
   ]
  },
  {
   "cell_type": "code",
   "execution_count": 1,
   "metadata": {
    "ExecuteTime": {
     "end_time": "2017-08-22T01:28:30.078715Z",
     "start_time": "2017-08-22T01:28:29.782468Z"
    }
   },
   "outputs": [],
   "source": [
    "from jn_tester.student.test import run_test, submit_test\n",
    "from jn_tester.professor.models import load_test_set"
   ]
  },
  {
   "cell_type": "markdown",
   "metadata": {},
   "source": [
    "## Showing inputs and outputs for the tests"
   ]
  },
  {
   "cell_type": "code",
   "execution_count": 2,
   "metadata": {
    "ExecuteTime": {
     "end_time": "2017-08-22T01:28:30.090441Z",
     "start_time": "2017-08-22T01:28:30.080095Z"
    }
   },
   "outputs": [
    {
     "name": "stdout",
     "output_type": "stream",
     "text": [
      "input: 2\n",
      "output: 4 \n",
      "\n",
      "input: {'n': 6}\n",
      "output: 12 \n",
      "\n",
      "input 0: 2\n",
      "output 0: 4\n"
     ]
    }
   ],
   "source": [
    "tests = load_test_set('double')\n",
    "\n",
    "for test in tests:\n",
    "    print('input:', test.input)\n",
    "    print('output:', test.output, '\\n')\n",
    "    \n",
    "# ------- OR ----------------\n",
    "\n",
    "print('input 0:', tests[0].input)\n",
    "print('output 0:', tests[0].output)"
   ]
  },
  {
   "cell_type": "markdown",
   "metadata": {},
   "source": [
    "## Student functions"
   ]
  },
  {
   "cell_type": "code",
   "execution_count": 3,
   "metadata": {
    "ExecuteTime": {
     "end_time": "2017-08-22T01:28:30.177583Z",
     "start_time": "2017-08-22T01:28:30.092183Z"
    },
    "collapsed": true
   },
   "outputs": [],
   "source": [
    "def my_double(n):\n",
    "    return 2 * n\n",
    "\n",
    "def my_double2(n):\n",
    "    return n * 2\n",
    "\n",
    "def my_double3(n):\n",
    "    return n ** 2"
   ]
  },
  {
   "cell_type": "markdown",
   "metadata": {},
   "source": [
    "## Run local tests"
   ]
  },
  {
   "cell_type": "code",
   "execution_count": 4,
   "metadata": {
    "ExecuteTime": {
     "end_time": "2017-08-22T01:28:30.736903Z",
     "start_time": "2017-08-22T01:28:30.179284Z"
    }
   },
   "outputs": [
    {
     "name": "stdout",
     "output_type": "stream",
     "text": [
      "{'results': [1.0, 1.0, 1.0], 'performance': [{'time': 0.002844, 'memory': 90.88}, {'time': 0.003724, 'memory': 90.89}, {'time': 0.00639, 'memory': 90.91}]}\n",
      "{'results': [1.0, 1.0, 1.0], 'performance': [{'time': 0.001847, 'memory': 90.91}, {'time': 0.004725, 'memory': 90.91}, {'time': 0.004853, 'memory': 90.91}]}\n",
      "{'results': [1.0, 0.0, 0.0], 'performance': [{'time': 0.004994, 'memory': 90.92}, {'time': 0.00483, 'memory': 90.92}, {'time': 0.007223, 'memory': 90.92}]}\n"
     ]
    }
   ],
   "source": [
    "print(run_test('double', fnc=my_double))\n",
    "print(run_test('double', fnc=my_double2))\n",
    "print(run_test('double', fnc=my_double3))"
   ]
  },
  {
   "cell_type": "markdown",
   "metadata": {},
   "source": [
    "## Submit tests for evaluation"
   ]
  },
  {
   "cell_type": "code",
   "execution_count": 5,
   "metadata": {
    "ExecuteTime": {
     "end_time": "2017-08-22T01:28:30.931982Z",
     "start_time": "2017-08-22T01:28:30.738448Z"
    }
   },
   "outputs": [
    {
     "name": "stdout",
     "output_type": "stream",
     "text": [
      "\n",
      "Showing results: my_double\n",
      "--------------------\n",
      "Final score:  100%\n"
     ]
    },
    {
     "data": {
      "text/html": [
       "<div>\n",
       "<table border=\"1\" class=\"dataframe\">\n",
       "  <thead>\n",
       "    <tr style=\"text-align: right;\">\n",
       "      <th></th>\n",
       "      <th>Score</th>\n",
       "      <th>Time</th>\n",
       "      <th>Memory</th>\n",
       "    </tr>\n",
       "  </thead>\n",
       "  <tbody>\n",
       "    <tr>\n",
       "      <th>Test 1</th>\n",
       "      <td>100%</td>\n",
       "      <td>0.001726 ms</td>\n",
       "      <td>90.94 Mb</td>\n",
       "    </tr>\n",
       "    <tr>\n",
       "      <th>Test 2</th>\n",
       "      <td>100%</td>\n",
       "      <td>0.005582 ms</td>\n",
       "      <td>90.94 Mb</td>\n",
       "    </tr>\n",
       "    <tr>\n",
       "      <th>Test 3</th>\n",
       "      <td>100%</td>\n",
       "      <td>0.006689 ms</td>\n",
       "      <td>90.94 Mb</td>\n",
       "    </tr>\n",
       "  </tbody>\n",
       "</table>\n",
       "</div>"
      ],
      "text/plain": [
       "       Score         Time    Memory\n",
       "Test 1  100%  0.001726 ms  90.94 Mb\n",
       "Test 2  100%  0.005582 ms  90.94 Mb\n",
       "Test 3  100%  0.006689 ms  90.94 Mb"
      ]
     },
     "metadata": {},
     "output_type": "display_data"
    }
   ],
   "source": [
    "submit_test('double', fnc=my_double, presentation_format='table')"
   ]
  },
  {
   "cell_type": "code",
   "execution_count": 6,
   "metadata": {
    "ExecuteTime": {
     "end_time": "2017-08-22T01:28:31.143953Z",
     "start_time": "2017-08-22T01:28:30.935438Z"
    }
   },
   "outputs": [
    {
     "name": "stdout",
     "output_type": "stream",
     "text": [
      "\n",
      "Showing results: my_double2\n",
      "--------------------\n",
      "Final score:  100%\n"
     ]
    },
    {
     "data": {
      "text/html": [
       "<div>\n",
       "<table border=\"1\" class=\"dataframe\">\n",
       "  <thead>\n",
       "    <tr style=\"text-align: right;\">\n",
       "      <th></th>\n",
       "      <th>Score</th>\n",
       "      <th>Time</th>\n",
       "      <th>Memory</th>\n",
       "    </tr>\n",
       "  </thead>\n",
       "  <tbody>\n",
       "    <tr>\n",
       "      <th>Test 1</th>\n",
       "      <td>100%</td>\n",
       "      <td>0.004031 ms</td>\n",
       "      <td>91.94 Mb</td>\n",
       "    </tr>\n",
       "    <tr>\n",
       "      <th>Test 2</th>\n",
       "      <td>100%</td>\n",
       "      <td>0.003729 ms</td>\n",
       "      <td>91.94 Mb</td>\n",
       "    </tr>\n",
       "    <tr>\n",
       "      <th>Test 3</th>\n",
       "      <td>100%</td>\n",
       "      <td>0.003886 ms</td>\n",
       "      <td>91.94 Mb</td>\n",
       "    </tr>\n",
       "  </tbody>\n",
       "</table>\n",
       "</div>"
      ],
      "text/plain": [
       "       Score         Time    Memory\n",
       "Test 1  100%  0.004031 ms  91.94 Mb\n",
       "Test 2  100%  0.003729 ms  91.94 Mb\n",
       "Test 3  100%  0.003886 ms  91.94 Mb"
      ]
     },
     "metadata": {},
     "output_type": "display_data"
    }
   ],
   "source": [
    "submit_test('double', fnc=my_double2, presentation_format='table')"
   ]
  },
  {
   "cell_type": "code",
   "execution_count": 7,
   "metadata": {
    "ExecuteTime": {
     "end_time": "2017-08-22T01:28:31.346594Z",
     "start_time": "2017-08-22T01:28:31.147207Z"
    }
   },
   "outputs": [
    {
     "name": "stdout",
     "output_type": "stream",
     "text": [
      "\n",
      "Showing results: my_double3\n",
      "--------------------\n",
      "Final score:  33%\n"
     ]
    },
    {
     "data": {
      "text/html": [
       "<div>\n",
       "<table border=\"1\" class=\"dataframe\">\n",
       "  <thead>\n",
       "    <tr style=\"text-align: right;\">\n",
       "      <th></th>\n",
       "      <th>Score</th>\n",
       "      <th>Time</th>\n",
       "      <th>Memory</th>\n",
       "    </tr>\n",
       "  </thead>\n",
       "  <tbody>\n",
       "    <tr>\n",
       "      <th>Test 1</th>\n",
       "      <td>100%</td>\n",
       "      <td>0.005333 ms</td>\n",
       "      <td>91.95 Mb</td>\n",
       "    </tr>\n",
       "    <tr>\n",
       "      <th>Test 2</th>\n",
       "      <td>0%</td>\n",
       "      <td>0.007546 ms</td>\n",
       "      <td>91.95 Mb</td>\n",
       "    </tr>\n",
       "    <tr>\n",
       "      <th>Test 3</th>\n",
       "      <td>0%</td>\n",
       "      <td>0.006905 ms</td>\n",
       "      <td>91.95 Mb</td>\n",
       "    </tr>\n",
       "  </tbody>\n",
       "</table>\n",
       "</div>"
      ],
      "text/plain": [
       "       Score         Time    Memory\n",
       "Test 1  100%  0.005333 ms  91.95 Mb\n",
       "Test 2    0%  0.007546 ms  91.95 Mb\n",
       "Test 3    0%  0.006905 ms  91.95 Mb"
      ]
     },
     "metadata": {},
     "output_type": "display_data"
    }
   ],
   "source": [
    "submit_test('double', fnc=my_double3, presentation_format='table')"
   ]
  },
  {
   "cell_type": "code",
   "execution_count": null,
   "metadata": {
    "collapsed": true
   },
   "outputs": [],
   "source": []
  }
 ],
 "metadata": {
  "kernelspec": {
   "display_name": "Python 3",
   "language": "python",
   "name": "python3"
  },
  "language_info": {
   "codemirror_mode": {
    "name": "ipython",
    "version": 3
   },
   "file_extension": ".py",
   "mimetype": "text/x-python",
   "name": "python",
   "nbconvert_exporter": "python",
   "pygments_lexer": "ipython3",
   "version": "3.6.1"
  },
  "latex_envs": {
   "LaTeX_envs_menu_present": true,
   "autocomplete": true,
   "bibliofile": "biblio.bib",
   "cite_by": "apalike",
   "current_citInitial": 1,
   "eqLabelWithNumbers": true,
   "eqNumInitial": 1,
   "hotkeys": {
    "equation": "Ctrl-E",
    "itemize": "Ctrl-I"
   },
   "labels_anchors": false,
   "latex_user_defs": false,
   "report_style_numbering": false,
   "user_envs_cfg": false
  },
  "toc": {
   "colors": {
    "hover_highlight": "#DAA520",
    "running_highlight": "#FF0000",
    "selected_highlight": "#FFD700"
   },
   "moveMenuLeft": true,
   "nav_menu": {
    "height": "12px",
    "width": "252px"
   },
   "navigate_menu": true,
   "number_sections": true,
   "sideBar": true,
   "threshold": 4,
   "toc_cell": false,
   "toc_section_display": "block",
   "toc_window_display": false,
   "widenNotebook": false
  }
 },
 "nbformat": 4,
 "nbformat_minor": 1
}
