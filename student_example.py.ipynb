{
 "cells": [
  {
   "cell_type": "code",
   "execution_count": 1,
   "metadata": {
    "ExecuteTime": {
     "end_time": "2017-06-28T01:27:01.222565Z",
     "start_time": "2017-06-28T01:27:00.893144Z"
    },
    "collapsed": false
   },
   "outputs": [],
   "source": [
    "from student.test import run_test, submit_test"
   ]
  },
  {
   "cell_type": "code",
   "execution_count": 2,
   "metadata": {
    "ExecuteTime": {
     "end_time": "2017-06-28T01:27:01.786862Z",
     "start_time": "2017-06-28T01:27:01.223971Z"
    },
    "collapsed": false,
    "scrolled": false
   },
   "outputs": [
    {
     "name": "stdout",
     "output_type": "stream",
     "text": [
      "{'results': [1.0, 0.0, 0.0], 'performance': [{'time': 0.00631613, 'memory': 107.21}, {'time': 0.00868468, 'memory': 107.21}, {'time': 0.00868468, 'memory': 107.25}]}\n",
      "{'results': [0.0, 0.0, 0.0], 'performance': [{'time': 0.00355283, 'memory': 107.26}, {'time': 0.00355283, 'memory': 107.26}, {'time': 0.00394758, 'memory': 107.21}]}\n"
     ]
    },
    {
     "ename": "NameError",
     "evalue": "name 'username' is not defined",
     "output_type": "error",
     "traceback": [
      "\u001b[0;31m---------------------------------------------------------------------------\u001b[0m",
      "\u001b[0;31mNameError\u001b[0m                                 Traceback (most recent call last)",
      "\u001b[0;32m<ipython-input-2-2e28061381fa>\u001b[0m in \u001b[0;36m<module>\u001b[0;34m()\u001b[0m\n\u001b[1;32m      5\u001b[0m \u001b[0mprint\u001b[0m\u001b[1;33m(\u001b[0m\u001b[0mrun_test\u001b[0m\u001b[1;33m(\u001b[0m\u001b[1;34m'dobro.test'\u001b[0m\u001b[1;33m,\u001b[0m \u001b[0mfnc\u001b[0m\u001b[1;33m=\u001b[0m\u001b[1;32mlambda\u001b[0m \u001b[0mn\u001b[0m\u001b[1;33m:\u001b[0m \u001b[1;36m3\u001b[0m \u001b[1;33m*\u001b[0m \u001b[0mn\u001b[0m\u001b[1;33m)\u001b[0m\u001b[1;33m)\u001b[0m\u001b[1;33m\u001b[0m\u001b[0m\n\u001b[1;32m      6\u001b[0m \u001b[1;33m\u001b[0m\u001b[0m\n\u001b[0;32m----> 7\u001b[0;31m \u001b[0msubmit_test\u001b[0m\u001b[1;33m(\u001b[0m\u001b[1;34m'dobro.test'\u001b[0m\u001b[1;33m,\u001b[0m  \u001b[0mfnc\u001b[0m\u001b[1;33m=\u001b[0m\u001b[1;32mlambda\u001b[0m \u001b[0mn\u001b[0m\u001b[1;33m:\u001b[0m \u001b[1;36m3\u001b[0m \u001b[1;33m*\u001b[0m \u001b[0mn\u001b[0m\u001b[1;33m,\u001b[0m \u001b[0mpresentation_format\u001b[0m\u001b[1;33m=\u001b[0m\u001b[1;34m'table'\u001b[0m\u001b[1;33m)\u001b[0m\u001b[1;33m\u001b[0m\u001b[0m\n\u001b[0m\u001b[1;32m      8\u001b[0m \u001b[0msubmit_test\u001b[0m\u001b[1;33m(\u001b[0m\u001b[1;34m'dobro.test'\u001b[0m\u001b[1;33m,\u001b[0m \u001b[0mfnc\u001b[0m\u001b[1;33m=\u001b[0m\u001b[0mvezes_2\u001b[0m\u001b[1;33m,\u001b[0m \u001b[0mpresentation_format\u001b[0m\u001b[1;33m=\u001b[0m\u001b[1;34m'text'\u001b[0m\u001b[1;33m)\u001b[0m\u001b[1;33m\u001b[0m\u001b[0m\n",
      "\u001b[0;32mC:\\Users\\JoseAngelIvan\\Documents\\GitHub2\\erick\\jn_tester\\student\\test.py\u001b[0m in \u001b[0;36msubmit_test\u001b[0;34m(test_set_name, fnc, presentation_format)\u001b[0m\n\u001b[1;32m     38\u001b[0m     \u001b[0m_data\u001b[0m \u001b[1;33m=\u001b[0m \u001b[0mexecution\u001b[0m\u001b[1;33m.\u001b[0m\u001b[0msubmit_test\u001b[0m\u001b[1;33m(\u001b[0m\u001b[1;33m)\u001b[0m\u001b[1;33m\u001b[0m\u001b[0m\n\u001b[1;32m     39\u001b[0m     \u001b[1;31m# Record the data\u001b[0m\u001b[1;33m\u001b[0m\u001b[1;33m\u001b[0m\u001b[0m\n\u001b[0;32m---> 40\u001b[0;31m     \u001b[0mexecution\u001b[0m\u001b[1;33m.\u001b[0m\u001b[0mrecord_test_results\u001b[0m\u001b[1;33m(\u001b[0m\u001b[0mtest_set_name\u001b[0m\u001b[1;33m,\u001b[0m \u001b[0musername\u001b[0m\u001b[1;33m)\u001b[0m\u001b[1;33m\u001b[0m\u001b[0m\n\u001b[0m\u001b[1;32m     41\u001b[0m     \u001b[1;31m# Present the data for the student\u001b[0m\u001b[1;33m\u001b[0m\u001b[1;33m\u001b[0m\u001b[0m\n\u001b[1;32m     42\u001b[0m     \u001b[0mpresenter\u001b[0m \u001b[1;33m=\u001b[0m \u001b[0mPresenter\u001b[0m\u001b[1;33m(\u001b[0m\u001b[0m_data\u001b[0m\u001b[1;33m,\u001b[0m \u001b[0mpresentation_format\u001b[0m\u001b[1;33m=\u001b[0m\u001b[0mpresentation_format\u001b[0m\u001b[1;33m)\u001b[0m\u001b[1;33m\u001b[0m\u001b[0m\n",
      "\u001b[0;31mNameError\u001b[0m: name 'username' is not defined"
     ]
    }
   ],
   "source": [
    "def vezes_2(n):\n",
    "    return 2 * n\n",
    "\n",
    "print(run_test('dobro.test', fnc=lambda n: 2 ** n))\n",
    "print(run_test('dobro.test', fnc=lambda n: 3 * n))\n",
    "\n",
    "submit_test('dobro.test',  fnc=lambda n: 3 * n, presentation_format='table')\n",
    "submit_test('dobro.test', fnc=vezes_2, presentation_format='text')"
   ]
  },
  {
   "cell_type": "code",
   "execution_count": null,
   "metadata": {
    "collapsed": true
   },
   "outputs": [],
   "source": []
  }
 ],
 "metadata": {
  "kernelspec": {
   "display_name": "Python 3",
   "language": "python",
   "name": "python3"
  },
  "language_info": {
   "codemirror_mode": {
    "name": "ipython",
    "version": 3
   },
   "file_extension": ".py",
   "mimetype": "text/x-python",
   "name": "python",
   "nbconvert_exporter": "python",
   "pygments_lexer": "ipython3",
   "version": "3.6.0"
  },
  "latex_envs": {
   "LaTeX_envs_menu_present": true,
   "autocomplete": true,
   "bibliofile": "biblio.bib",
   "cite_by": "apalike",
   "current_citInitial": 1,
   "eqLabelWithNumbers": true,
   "eqNumInitial": 1,
   "hotkeys": {
    "equation": "Ctrl-E",
    "itemize": "Ctrl-I"
   },
   "labels_anchors": false,
   "latex_user_defs": false,
   "report_style_numbering": false,
   "user_envs_cfg": false
  },
  "toc": {
   "colors": {
    "hover_highlight": "#DAA520",
    "navigate_num": "#000000",
    "navigate_text": "#333333",
    "running_highlight": "#FF0000",
    "selected_highlight": "#FFD700",
    "sidebar_border": "#EEEEEE",
    "wrapper_background": "#FFFFFF"
   },
   "moveMenuLeft": true,
   "nav_menu": {
    "height": "12px",
    "width": "252px"
   },
   "navigate_menu": true,
   "number_sections": true,
   "sideBar": true,
   "threshold": 4,
   "toc_cell": false,
   "toc_section_display": "block",
   "toc_window_display": false,
   "widenNotebook": false
  }
 },
 "nbformat": 4,
 "nbformat_minor": 2
}
