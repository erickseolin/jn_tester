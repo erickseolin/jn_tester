{
 "cells": [
  {
   "cell_type": "code",
   "execution_count": 4,
   "metadata": {
    "collapsed": true
   },
   "outputs": [],
   "source": [
    "import os\n",
    "import sys\n",
    "# To run this notebook inside here, we add the project to sys.path\n",
    "sys.path.append('/'.join(os.getcwd().split('/')[:-1]))\n",
    "\n",
    "from jn_tester.student.test import run_test, submit_test\n",
    "\n",
    "\n",
    "def vezes_2(n):\n",
    "    return 2 * n"
   ]
  },
  {
   "cell_type": "code",
   "execution_count": 5,
   "metadata": {},
   "outputs": [
    {
     "name": "stdout",
     "output_type": "stream",
     "text": [
      "\n",
      "Showing results: <lambda>\n",
      "--------------------\n",
      "Final score:  33%\n"
     ]
    },
    {
     "data": {
      "text/html": [
       "<div>\n",
       "<style>\n",
       "    .dataframe thead tr:only-child th {\n",
       "        text-align: right;\n",
       "    }\n",
       "\n",
       "    .dataframe thead th {\n",
       "        text-align: left;\n",
       "    }\n",
       "\n",
       "    .dataframe tbody tr th {\n",
       "        vertical-align: top;\n",
       "    }\n",
       "</style>\n",
       "<table border=\"1\" class=\"dataframe\">\n",
       "  <thead>\n",
       "    <tr style=\"text-align: right;\">\n",
       "      <th></th>\n",
       "      <th>Score</th>\n",
       "      <th>Time</th>\n",
       "      <th>Memory</th>\n",
       "    </tr>\n",
       "  </thead>\n",
       "  <tbody>\n",
       "    <tr>\n",
       "      <th>Test 1</th>\n",
       "      <td>100%</td>\n",
       "      <td>0.002795 ms</td>\n",
       "      <td>87.28 Mb</td>\n",
       "    </tr>\n",
       "    <tr>\n",
       "      <th>Test 2</th>\n",
       "      <td>0%</td>\n",
       "      <td>0.004433 ms</td>\n",
       "      <td>87.28 Mb</td>\n",
       "    </tr>\n",
       "    <tr>\n",
       "      <th>Test 3</th>\n",
       "      <td>0%</td>\n",
       "      <td>0.004003 ms</td>\n",
       "      <td>87.28 Mb</td>\n",
       "    </tr>\n",
       "  </tbody>\n",
       "</table>\n",
       "</div>"
      ],
      "text/plain": [
       "       Score         Time    Memory\n",
       "Test 1  100%  0.002795 ms  87.28 Mb\n",
       "Test 2    0%  0.004433 ms  87.28 Mb\n",
       "Test 3    0%  0.004003 ms  87.28 Mb"
      ]
     },
     "metadata": {},
     "output_type": "display_data"
    },
    {
     "name": "stdout",
     "output_type": "stream",
     "text": [
      "\n",
      "Showing results: <lambda>\n",
      "--------------------\n",
      "Final score:  33%\n",
      "1 :  [1.0/1.0] => OK\n",
      " - time:  0.003075  ms\n",
      " - memory:  87.29  Mb\n",
      "2 :  [0.0/1.0] => FAIL\n",
      " - time:  0.004232  ms\n",
      " - memory:  87.29  Mb\n",
      "3 :  [0.0/1.0] => FAIL\n",
      " - time:  0.004153  ms\n",
      " - memory:  87.29  Mb\n"
     ]
    }
   ],
   "source": [
    "run_test('dobro.test', fnc=lambda n: 2 ** n, presentation_mode='table')\n",
    "run_test('dobro.test', fnc=lambda n: 3 * n)"
   ]
  },
  {
   "cell_type": "code",
   "execution_count": 6,
   "metadata": {},
   "outputs": [
    {
     "name": "stdout",
     "output_type": "stream",
     "text": [
      "\n",
      "Showing results: <lambda>\n",
      "--------------------\n",
      "Final score:  33%\n"
     ]
    },
    {
     "data": {
      "text/html": [
       "<div>\n",
       "<style>\n",
       "    .dataframe thead tr:only-child th {\n",
       "        text-align: right;\n",
       "    }\n",
       "\n",
       "    .dataframe thead th {\n",
       "        text-align: left;\n",
       "    }\n",
       "\n",
       "    .dataframe tbody tr th {\n",
       "        vertical-align: top;\n",
       "    }\n",
       "</style>\n",
       "<table border=\"1\" class=\"dataframe\">\n",
       "  <thead>\n",
       "    <tr style=\"text-align: right;\">\n",
       "      <th></th>\n",
       "      <th>Score</th>\n",
       "      <th>Time</th>\n",
       "      <th>Memory</th>\n",
       "    </tr>\n",
       "  </thead>\n",
       "  <tbody>\n",
       "    <tr>\n",
       "      <th>Test 1</th>\n",
       "      <td>100%</td>\n",
       "      <td>0.004652 ms</td>\n",
       "      <td>87.29 Mb</td>\n",
       "    </tr>\n",
       "    <tr>\n",
       "      <th>Test 2</th>\n",
       "      <td>0%</td>\n",
       "      <td>0.004149 ms</td>\n",
       "      <td>87.29 Mb</td>\n",
       "    </tr>\n",
       "    <tr>\n",
       "      <th>Test 3</th>\n",
       "      <td>0%</td>\n",
       "      <td>0.004254 ms</td>\n",
       "      <td>87.29 Mb</td>\n",
       "    </tr>\n",
       "  </tbody>\n",
       "</table>\n",
       "</div>"
      ],
      "text/plain": [
       "       Score         Time    Memory\n",
       "Test 1  100%  0.004652 ms  87.29 Mb\n",
       "Test 2    0%  0.004149 ms  87.29 Mb\n",
       "Test 3    0%  0.004254 ms  87.29 Mb"
      ]
     },
     "metadata": {},
     "output_type": "display_data"
    },
    {
     "name": "stdout",
     "output_type": "stream",
     "text": [
      "\n",
      "Showing results: <lambda>\n",
      "--------------------\n",
      "Final score:  33%\n",
      "1 :  [1.0/1.0] => OK\n",
      " - time:  0.002831  ms\n",
      " - memory:  87.29  Mb\n",
      "2 :  [0.0/1.0] => FAIL\n",
      " - time:  0.004823  ms\n",
      " - memory:  87.29  Mb\n",
      "3 :  [0.0/1.0] => FAIL\n",
      " - time:  0.003987  ms\n",
      " - memory:  87.29  Mb\n"
     ]
    }
   ],
   "source": [
    "submit_test('dobro.test', fnc=lambda n: 3 * n, presentation_mode='table')\n",
    "submit_test('dobro.test', fnc=vezes_2, presentation_mode='text')"
   ]
  },
  {
   "cell_type": "code",
   "execution_count": null,
   "metadata": {
    "collapsed": true
   },
   "outputs": [],
   "source": []
  }
 ],
 "metadata": {
  "kernelspec": {
   "display_name": "Python 3",
   "language": "python",
   "name": "python3"
  },
  "language_info": {
   "codemirror_mode": {
    "name": "ipython",
    "version": 3
   },
   "file_extension": ".py",
   "mimetype": "text/x-python",
   "name": "python",
   "nbconvert_exporter": "python",
   "pygments_lexer": "ipython3",
   "version": "3.6.1"
  },
  "latex_envs": {
   "LaTeX_envs_menu_present": true,
   "autocomplete": true,
   "bibliofile": "biblio.bib",
   "cite_by": "apalike",
   "current_citInitial": 1,
   "eqLabelWithNumbers": true,
   "eqNumInitial": 1,
   "hotkeys": {
    "equation": "Ctrl-E",
    "itemize": "Ctrl-I"
   },
   "labels_anchors": false,
   "latex_user_defs": false,
   "report_style_numbering": false,
   "user_envs_cfg": false
  },
  "toc": {
   "colors": {
    "hover_highlight": "#DAA520",
    "navigate_num": "#000000",
    "navigate_text": "#333333",
    "running_highlight": "#FF0000",
    "selected_highlight": "#FFD700",
    "sidebar_border": "#EEEEEE",
    "wrapper_background": "#FFFFFF"
   },
   "moveMenuLeft": true,
   "nav_menu": {
    "height": "12px",
    "width": "252px"
   },
   "navigate_menu": true,
   "number_sections": true,
   "sideBar": true,
   "threshold": 4,
   "toc_cell": false,
   "toc_section_display": "block",
   "toc_window_display": false,
   "widenNotebook": false
  }
 },
 "nbformat": 4,
 "nbformat_minor": 1
}
