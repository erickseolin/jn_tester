{
 "cells": [
  {
   "cell_type": "code",
   "execution_count": 1,
   "metadata": {
    "ExecuteTime": {
     "end_time": "2017-06-29T01:24:02.488082Z",
     "start_time": "2017-06-29T01:24:02.130138Z"
    },
    "collapsed": true
   },
   "outputs": [],
   "source": [
    "import os\n",
    "import sys\n",
    "# To run this notebook inside here, we add the project to sys.path\n",
    "sys.path.append('/'.join(os.getcwd().split('/')[:-3]))\n",
    "\n",
    "from jn_tester.student.test import run_test, submit_test"
   ]
  },
  {
   "cell_type": "code",
   "execution_count": 2,
   "metadata": {
    "ExecuteTime": {
     "end_time": "2017-06-29T01:24:02.881429Z",
     "start_time": "2017-06-29T01:24:02.489844Z"
    }
   },
   "outputs": [
    {
     "name": "stdout",
     "output_type": "stream",
     "text": [
      "{'results': [0.0, 0.0], 'performance': [{'time': 0.015268, 'memory': 91.17}, {'time': 1.522098, 'memory': 91.38}]}\n",
      "{'results': [1.0, 1.0], 'performance': [{'time': 0.021276, 'memory': 91.4}, {'time': 0.047941, 'memory': 91.41}]}\n",
      "\n",
      "Showing results: <lambda>\n",
      "--------------------\n",
      "Final score:  0%\n"
     ]
    },
    {
     "data": {
      "text/html": [
       "<div>\n",
       "<style>\n",
       "    .dataframe thead tr:only-child th {\n",
       "        text-align: right;\n",
       "    }\n",
       "\n",
       "    .dataframe thead th {\n",
       "        text-align: left;\n",
       "    }\n",
       "\n",
       "    .dataframe tbody tr th {\n",
       "        vertical-align: top;\n",
       "    }\n",
       "</style>\n",
       "<table border=\"1\" class=\"dataframe\">\n",
       "  <thead>\n",
       "    <tr style=\"text-align: right;\">\n",
       "      <th></th>\n",
       "      <th>Score</th>\n",
       "      <th>Time</th>\n",
       "      <th>Memory</th>\n",
       "    </tr>\n",
       "  </thead>\n",
       "  <tbody>\n",
       "    <tr>\n",
       "      <th>Test 1</th>\n",
       "      <td>0%</td>\n",
       "      <td>0.014439 ms</td>\n",
       "      <td>91.41 Mb</td>\n",
       "    </tr>\n",
       "    <tr>\n",
       "      <th>Test 2</th>\n",
       "      <td>0%</td>\n",
       "      <td>1.301964 ms</td>\n",
       "      <td>91.41 Mb</td>\n",
       "    </tr>\n",
       "  </tbody>\n",
       "</table>\n",
       "</div>"
      ],
      "text/plain": [
       "       Score         Time    Memory\n",
       "Test 1    0%  0.014439 ms  91.41 Mb\n",
       "Test 2    0%  1.301964 ms  91.41 Mb"
      ]
     },
     "metadata": {},
     "output_type": "display_data"
    },
    {
     "name": "stdout",
     "output_type": "stream",
     "text": [
      "\n",
      "Showing results: rotation\n",
      "--------------------\n",
      "Final score:  100%\n"
     ]
    },
    {
     "data": {
      "text/html": [
       "<div>\n",
       "<style>\n",
       "    .dataframe thead tr:only-child th {\n",
       "        text-align: right;\n",
       "    }\n",
       "\n",
       "    .dataframe thead th {\n",
       "        text-align: left;\n",
       "    }\n",
       "\n",
       "    .dataframe tbody tr th {\n",
       "        vertical-align: top;\n",
       "    }\n",
       "</style>\n",
       "<table border=\"1\" class=\"dataframe\">\n",
       "  <thead>\n",
       "    <tr style=\"text-align: right;\">\n",
       "      <th></th>\n",
       "      <th>Score</th>\n",
       "      <th>Time</th>\n",
       "      <th>Memory</th>\n",
       "    </tr>\n",
       "  </thead>\n",
       "  <tbody>\n",
       "    <tr>\n",
       "      <th>Test 1</th>\n",
       "      <td>100%</td>\n",
       "      <td>0.033957 ms</td>\n",
       "      <td>92.86 Mb</td>\n",
       "    </tr>\n",
       "    <tr>\n",
       "      <th>Test 2</th>\n",
       "      <td>100%</td>\n",
       "      <td>0.047427 ms</td>\n",
       "      <td>92.89 Mb</td>\n",
       "    </tr>\n",
       "  </tbody>\n",
       "</table>\n",
       "</div>"
      ],
      "text/plain": [
       "       Score         Time    Memory\n",
       "Test 1  100%  0.033957 ms  92.86 Mb\n",
       "Test 2  100%  0.047427 ms  92.89 Mb"
      ]
     },
     "metadata": {},
     "output_type": "display_data"
    }
   ],
   "source": [
    "def rotation(f):\n",
    "    import numpy as np\n",
    "    g = np.copy(f)\n",
    "    return g.transpose()[:, ::-1]\n",
    "\n",
    "test_name = '../professor/rot.test'\n",
    "\n",
    "print(run_test(test_name, fnc=lambda n: 2 ** n))\n",
    "print(run_test(test_name, fnc=rotation))\n",
    "\n",
    "submit_test(test_name, fnc=lambda n: 2 ** n, presentation_format='table')\n",
    "submit_test(test_name, fnc=rotation, presentation_format='table')"
   ]
  },
  {
   "cell_type": "code",
   "execution_count": null,
   "metadata": {
    "collapsed": true
   },
   "outputs": [],
   "source": []
  }
 ],
 "metadata": {
  "kernelspec": {
   "display_name": "Python 3",
   "language": "python",
   "name": "python3"
  },
  "language_info": {
   "codemirror_mode": {
    "name": "ipython",
    "version": 3
   },
   "file_extension": ".py",
   "mimetype": "text/x-python",
   "name": "python",
   "nbconvert_exporter": "python",
   "pygments_lexer": "ipython3",
   "version": "3.6.1"
  },
  "latex_envs": {
   "LaTeX_envs_menu_present": true,
   "autocomplete": true,
   "bibliofile": "biblio.bib",
   "cite_by": "apalike",
   "current_citInitial": 1,
   "eqLabelWithNumbers": true,
   "eqNumInitial": 1,
   "hotkeys": {
    "equation": "Ctrl-E",
    "itemize": "Ctrl-I"
   },
   "labels_anchors": false,
   "latex_user_defs": false,
   "report_style_numbering": false,
   "user_envs_cfg": false
  },
  "toc": {
   "colors": {
    "hover_highlight": "#DAA520",
    "navigate_num": "#000000",
    "navigate_text": "#333333",
    "running_highlight": "#FF0000",
    "selected_highlight": "#FFD700",
    "sidebar_border": "#EEEEEE",
    "wrapper_background": "#FFFFFF"
   },
   "moveMenuLeft": true,
   "nav_menu": {
    "height": "12px",
    "width": "252px"
   },
   "navigate_menu": true,
   "number_sections": true,
   "sideBar": true,
   "threshold": 4,
   "toc_cell": false,
   "toc_section_display": "block",
   "toc_window_display": false,
   "widenNotebook": false
  }
 },
 "nbformat": 4,
 "nbformat_minor": 2
}
