{
 "cells": [
  {
   "cell_type": "markdown",
   "metadata": {},
   "source": [
    "# Example for the professor usage"
   ]
  },
  {
   "cell_type": "code",
   "execution_count": 1,
   "metadata": {
    "ExecuteTime": {
     "end_time": "2017-08-13T03:08:39.045086Z",
     "start_time": "2017-08-13T03:08:38.747703Z"
    },
    "collapsed": true
   },
   "outputs": [],
   "source": [
    "import os\n",
    "import sys\n",
    "\n",
    "from jn_tester.professor.models import TestCase, TestSet\n",
    "from jn_tester.professor.tables import view_complete_table, export_complete_table"
   ]
  },
  {
   "cell_type": "code",
   "execution_count": 12,
   "metadata": {
    "ExecuteTime": {
     "end_time": "2017-08-13T03:29:52.899695Z",
     "start_time": "2017-08-13T03:29:52.897019Z"
    },
    "collapsed": true
   },
   "outputs": [],
   "source": [
    "test_name = 'dobro'\n",
    "test_path = './'\n",
    "sort = [('time', False), ('rank', True)]"
   ]
  },
  {
   "cell_type": "code",
   "execution_count": 4,
   "metadata": {
    "ExecuteTime": {
     "end_time": "2017-08-13T03:01:09.776380Z",
     "start_time": "2017-08-13T03:01:09.763661Z"
    },
    "collapsed": true
   },
   "outputs": [],
   "source": [
    "def equal(x, y):\n",
    "    return 1.0 if x == y else 0.0\n",
    "\n",
    "def double(b):\n",
    "    return 2*b\n",
    "\n",
    "# Simple test\n",
    "test = TestSet()\n",
    "test.add_new_test_case(TestCase(2, 4, assert_function=lambda x, y: 1.0 if x == y else 0.0))\n",
    "test.add_new_test_case(TestCase({'n': 6}, 12, assert_function=equal))\n",
    "test.add_new_test_case(TestCase({'n': 4}, 8, assert_function=equal))\n",
    "test.save('dobro')"
   ]
  },
  {
   "cell_type": "code",
   "execution_count": 13,
   "metadata": {
    "ExecuteTime": {
     "end_time": "2017-08-13T03:29:54.456565Z",
     "start_time": "2017-08-13T03:29:54.439696Z"
    },
    "scrolled": false
   },
   "outputs": [
    {
     "data": {
      "text/html": [
       "<div>\n",
       "<table border=\"1\" class=\"dataframe\">\n",
       "  <thead>\n",
       "    <tr style=\"text-align: right;\">\n",
       "      <th></th>\n",
       "      <th>Function Ranking</th>\n",
       "      <th>Function</th>\n",
       "      <th>Author</th>\n",
       "      <th>Test 1: Score</th>\n",
       "      <th>Test 1: Time (ms)</th>\n",
       "      <th>Test 2: Score</th>\n",
       "      <th>Test 2: Time (ms)</th>\n",
       "      <th>Test 3: Score</th>\n",
       "      <th>Test 3: Time (ms)</th>\n",
       "      <th>Mean Time (ms)</th>\n",
       "      <th>Final Score</th>\n",
       "    </tr>\n",
       "  </thead>\n",
       "  <tbody>\n",
       "    <tr>\n",
       "      <th>1</th>\n",
       "      <td>2</td>\n",
       "      <td>vezes_2</td>\n",
       "      <td>erick</td>\n",
       "      <td>1.00</td>\n",
       "      <td>0.003</td>\n",
       "      <td>1.00</td>\n",
       "      <td>0.005</td>\n",
       "      <td>1.00</td>\n",
       "      <td>0.003</td>\n",
       "      <td>0.004</td>\n",
       "      <td>1.00</td>\n",
       "    </tr>\n",
       "    <tr>\n",
       "      <th>2</th>\n",
       "      <td>3</td>\n",
       "      <td>&lt;lambda&gt;</td>\n",
       "      <td>erick</td>\n",
       "      <td>1.00</td>\n",
       "      <td>0.003</td>\n",
       "      <td>1.00</td>\n",
       "      <td>0.005</td>\n",
       "      <td>1.00</td>\n",
       "      <td>0.003</td>\n",
       "      <td>0.004</td>\n",
       "      <td>1.00</td>\n",
       "    </tr>\n",
       "    <tr>\n",
       "      <th>3</th>\n",
       "      <td>4</td>\n",
       "      <td>vezes_2</td>\n",
       "      <td>erick</td>\n",
       "      <td>1.00</td>\n",
       "      <td>0.002</td>\n",
       "      <td>1.00</td>\n",
       "      <td>0.006</td>\n",
       "      <td>1.00</td>\n",
       "      <td>0.003</td>\n",
       "      <td>0.004</td>\n",
       "      <td>1.00</td>\n",
       "    </tr>\n",
       "    <tr>\n",
       "      <th>4</th>\n",
       "      <td>5</td>\n",
       "      <td>&lt;lambda&gt;</td>\n",
       "      <td>erick</td>\n",
       "      <td>1.00</td>\n",
       "      <td>0.003</td>\n",
       "      <td>1.00</td>\n",
       "      <td>0.004</td>\n",
       "      <td>1.00</td>\n",
       "      <td>0.004</td>\n",
       "      <td>0.004</td>\n",
       "      <td>1.00</td>\n",
       "    </tr>\n",
       "    <tr>\n",
       "      <th>5</th>\n",
       "      <td>6</td>\n",
       "      <td>&lt;lambda&gt;</td>\n",
       "      <td>erick</td>\n",
       "      <td>0.00</td>\n",
       "      <td>0.002</td>\n",
       "      <td>0.00</td>\n",
       "      <td>0.004</td>\n",
       "      <td>0.00</td>\n",
       "      <td>0.005</td>\n",
       "      <td>0.004</td>\n",
       "      <td>0.00</td>\n",
       "    </tr>\n",
       "    <tr>\n",
       "      <th>6</th>\n",
       "      <td>7</td>\n",
       "      <td>&lt;lambda&gt;</td>\n",
       "      <td>erick</td>\n",
       "      <td>0.00</td>\n",
       "      <td>0.002</td>\n",
       "      <td>0.00</td>\n",
       "      <td>0.004</td>\n",
       "      <td>0.00</td>\n",
       "      <td>0.005</td>\n",
       "      <td>0.004</td>\n",
       "      <td>0.00</td>\n",
       "    </tr>\n",
       "    <tr>\n",
       "      <th>0</th>\n",
       "      <td>1</td>\n",
       "      <td>&lt;lambda&gt;</td>\n",
       "      <td>erick</td>\n",
       "      <td>1.00</td>\n",
       "      <td>0.002</td>\n",
       "      <td>1.00</td>\n",
       "      <td>0.005</td>\n",
       "      <td>1.00</td>\n",
       "      <td>0.003</td>\n",
       "      <td>0.003</td>\n",
       "      <td>1.00</td>\n",
       "    </tr>\n",
       "  </tbody>\n",
       "</table>\n",
       "</div>"
      ],
      "text/plain": [
       "   Function Ranking  Function Author Test 1: Score Test 1: Time (ms)  \\\n",
       "1                 2   vezes_2  erick          1.00             0.003   \n",
       "2                 3  <lambda>  erick          1.00             0.003   \n",
       "3                 4   vezes_2  erick          1.00             0.002   \n",
       "4                 5  <lambda>  erick          1.00             0.003   \n",
       "5                 6  <lambda>  erick          0.00             0.002   \n",
       "6                 7  <lambda>  erick          0.00             0.002   \n",
       "0                 1  <lambda>  erick          1.00             0.002   \n",
       "\n",
       "  Test 2: Score Test 2: Time (ms) Test 3: Score Test 3: Time (ms)  \\\n",
       "1          1.00             0.005          1.00             0.003   \n",
       "2          1.00             0.005          1.00             0.003   \n",
       "3          1.00             0.006          1.00             0.003   \n",
       "4          1.00             0.004          1.00             0.004   \n",
       "5          0.00             0.004          0.00             0.005   \n",
       "6          0.00             0.004          0.00             0.005   \n",
       "0          1.00             0.005          1.00             0.003   \n",
       "\n",
       "  Mean Time (ms) Final Score  \n",
       "1          0.004        1.00  \n",
       "2          0.004        1.00  \n",
       "3          0.004        1.00  \n",
       "4          0.004        1.00  \n",
       "5          0.004        0.00  \n",
       "6          0.004        0.00  \n",
       "0          0.003        1.00  "
      ]
     },
     "metadata": {},
     "output_type": "display_data"
    }
   ],
   "source": [
    "view_complete_table(test_name, test_path, sort_by=sort)"
   ]
  },
  {
   "cell_type": "code",
   "execution_count": 11,
   "metadata": {
    "ExecuteTime": {
     "end_time": "2017-07-26T12:12:15.924096Z",
     "start_time": "2017-07-26T12:12:15.881407Z"
    },
    "collapsed": true
   },
   "outputs": [],
   "source": [
    "export_complete_table(test_name, test_path, sort_by=sort, export_format='pkl')\n",
    "export_complete_table(test_name, test_path, sort_by=sort)\n",
    "export_complete_table(test_name, test_path, sort_by=sort, export_format='html')"
   ]
  },
  {
   "cell_type": "code",
   "execution_count": null,
   "metadata": {
    "collapsed": true
   },
   "outputs": [],
   "source": []
  }
 ],
 "metadata": {
  "kernelspec": {
   "display_name": "Python 3",
   "language": "python",
   "name": "python3"
  },
  "language_info": {
   "codemirror_mode": {
    "name": "ipython",
    "version": 3
   },
   "file_extension": ".py",
   "mimetype": "text/x-python",
   "name": "python",
   "nbconvert_exporter": "python",
   "pygments_lexer": "ipython3",
   "version": "3.6.1"
  },
  "toc": {
   "colors": {
    "hover_highlight": "#DAA520",
    "running_highlight": "#FF0000",
    "selected_highlight": "#FFD700"
   },
   "moveMenuLeft": true,
   "nav_menu": {
    "height": "12px",
    "width": "252px"
   },
   "navigate_menu": true,
   "number_sections": true,
   "sideBar": true,
   "threshold": 4,
   "toc_cell": false,
   "toc_section_display": "block",
   "toc_window_display": false,
   "widenNotebook": false
  }
 },
 "nbformat": 4,
 "nbformat_minor": 1
}
