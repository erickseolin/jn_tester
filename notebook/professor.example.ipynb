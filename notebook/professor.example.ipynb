{
 "cells": [
  {
   "cell_type": "code",
   "execution_count": 1,
   "metadata": {
    "collapsed": true
   },
   "outputs": [],
   "source": [
    "import os\n",
    "import sys\n",
    "# To run this notebook inside here, we add the project to sys.path\n",
    "sys.path.append('/'.join(os.getcwd().split('/')[:-1]))\n",
    "\n",
    "from src.professor.models import TestCase, TestSet\n",
    "from src.professor.tables import view_complete_table"
   ]
  },
  {
   "cell_type": "code",
   "execution_count": 2,
   "metadata": {
    "collapsed": true
   },
   "outputs": [],
   "source": [
    "def equal(x, y):\n",
    "    return 1.0 if x == y else 0.0\n",
    "\n",
    "def double(b):\n",
    "    return 2*b\n",
    "\n",
    "# Simple test\n",
    "test = TestSet()\n",
    "test.add_new_test_case(TestCase(2, 4, assert_function=lambda x, y: 1.0 if x == y else 0.0))\n",
    "test.add_new_test_case(TestCase({'n': 6}, 12, assert_function=equal))\n",
    "test.add_new_test_case(TestCase({'n': 4}, 8, assert_function=equal))\n",
    "test.save('dobro.test')"
   ]
  },
  {
   "cell_type": "code",
   "execution_count": 3,
   "metadata": {},
   "outputs": [
    {
     "name": "stdout",
     "output_type": "stream",
     "text": [
      "['/home/rdenadai/src/jn_tester/wip_rdenadai_2017/jn_tester/notebook/.dobro.test-rdenadai.score']\n"
     ]
    },
    {
     "data": {
      "text/html": [
       "<table border=\"1\" class=\"dataframe\">\n",
       "  <thead>\n",
       "    <tr style=\"text-align: right;\">\n",
       "      <th>Function Ranking</th>\n",
       "      <th>Function</th>\n",
       "      <th>Author</th>\n",
       "      <th>Test 1: Score</th>\n",
       "      <th>Test 1: Time (ms)</th>\n",
       "      <th>Test 2: Score</th>\n",
       "      <th>Test 2: Time (ms)</th>\n",
       "      <th>Test 3: Score</th>\n",
       "      <th>Test 3: Time (ms)</th>\n",
       "      <th>Mean Time (ms)</th>\n",
       "      <th>Final Score</th>\n",
       "    </tr>\n",
       "  </thead>\n",
       "  <tbody>\n",
       "    <tr>\n",
       "      <td>1</td>\n",
       "      <td>vezes_2</td>\n",
       "      <td>rdenadai</td>\n",
       "      <td>1.00</td>\n",
       "      <td>0.00</td>\n",
       "      <td>1.00</td>\n",
       "      <td>0.00</td>\n",
       "      <td>1.00</td>\n",
       "      <td>0.00</td>\n",
       "      <td>0.00</td>\n",
       "      <td>1.00</td>\n",
       "    </tr>\n",
       "  </tbody>\n",
       "</table>"
      ],
      "text/plain": [
       "<IPython.core.display.HTML object>"
      ]
     },
     "metadata": {},
     "output_type": "display_data"
    }
   ],
   "source": [
    "view_complete_table('dobro.test', os.getcwd())"
   ]
  },
  {
   "cell_type": "code",
   "execution_count": null,
   "metadata": {
    "collapsed": true
   },
   "outputs": [],
   "source": []
  }
 ],
 "metadata": {
  "kernelspec": {
   "display_name": "Python 3",
   "language": "python",
   "name": "python3"
  },
  "language_info": {
   "codemirror_mode": {
    "name": "ipython",
    "version": 3
   },
   "file_extension": ".py",
   "mimetype": "text/x-python",
   "name": "python",
   "nbconvert_exporter": "python",
   "pygments_lexer": "ipython3",
   "version": "3.6.1"
  }
 },
 "nbformat": 4,
 "nbformat_minor": 1
}
