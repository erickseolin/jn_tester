{
 "cells": [
  {
   "cell_type": "code",
   "execution_count": 9,
   "metadata": {
    "ExecuteTime": {
     "end_time": "2017-06-28T01:27:01.222565Z",
     "start_time": "2017-06-28T01:27:00.893144Z"
    },
    "collapsed": false
   },
   "outputs": [],
   "source": [
    "from student.test import run_test, submit_test"
   ]
  },
  {
   "cell_type": "code",
   "execution_count": 10,
   "metadata": {
    "ExecuteTime": {
     "end_time": "2017-06-28T01:27:01.786862Z",
     "start_time": "2017-06-28T01:27:01.223971Z"
    },
    "collapsed": false,
    "scrolled": false
   },
   "outputs": [
    {
     "name": "stdout",
     "output_type": "stream",
     "text": [
      "{'results': [1.0, 0.0, 0.0], 'performance': [{'time': 0.00750041, 'memory': 110.41}, {'time': 0.00592138, 'memory': 110.47}, {'time': 0.0047371, 'memory': 110.52}]}\n",
      "{'results': [0.0, 0.0, 0.0], 'performance': [{'time': 0.00236855, 'memory': 110.81}, {'time': 0.00355283, 'memory': 111.09}, {'time': 0.00355283, 'memory': 111.38}]}\n",
      "\n",
      "Showing results: <lambda>\n",
      "--------------------\n",
      "Final score:  0%\n"
     ]
    },
    {
     "data": {
      "text/html": [
       "<div>\n",
       "<table border=\"1\" class=\"dataframe\">\n",
       "  <thead>\n",
       "    <tr style=\"text-align: right;\">\n",
       "      <th></th>\n",
       "      <th>Score</th>\n",
       "      <th>Time</th>\n",
       "      <th>Memory</th>\n",
       "    </tr>\n",
       "  </thead>\n",
       "  <tbody>\n",
       "    <tr>\n",
       "      <th>Test0</th>\n",
       "      <td>0%</td>\n",
       "      <td>0.00276331 ms</td>\n",
       "      <td>111.8 Mb</td>\n",
       "    </tr>\n",
       "    <tr>\n",
       "      <th>Test1</th>\n",
       "      <td>0%</td>\n",
       "      <td>0.00355283 ms</td>\n",
       "      <td>111.85 Mb</td>\n",
       "    </tr>\n",
       "    <tr>\n",
       "      <th>Test2</th>\n",
       "      <td>0%</td>\n",
       "      <td>0.00434234 ms</td>\n",
       "      <td>111.88 Mb</td>\n",
       "    </tr>\n",
       "  </tbody>\n",
       "</table>\n",
       "</div>"
      ],
      "text/plain": [
       "      Score           Time     Memory\n",
       "Test0    0%  0.00276331 ms   111.8 Mb\n",
       "Test1    0%  0.00355283 ms  111.85 Mb\n",
       "Test2    0%  0.00434234 ms  111.88 Mb"
      ]
     },
     "metadata": {},
     "output_type": "display_data"
    },
    {
     "name": "stdout",
     "output_type": "stream",
     "text": [
      "\n",
      "Showing results: vezes_2\n",
      "--------------------\n",
      "Final score:  100%\n",
      "1 :  [1.0/1.0] => OK\n",
      " - time:  0.00315807  ms\n",
      " - memory:  112.83  Mb\n",
      "2 :  [1.0/1.0] => OK\n",
      " - time:  0.00355283  ms\n",
      " - memory:  113.11  Mb\n",
      "3 :  [1.0/1.0] => OK\n",
      " - time:  0.00355283  ms\n",
      " - memory:  113.17  Mb\n"
     ]
    }
   ],
   "source": [
    "def vezes_2(n):\n",
    "    return 2 * n\n",
    "\n",
    "print(run_test('dobro.test', fnc=lambda n: 2 ** n))\n",
    "print(run_test('dobro.test', fnc=lambda n: 3 * n))\n",
    "\n",
    "submit_test('dobro.test',  fnc=lambda n: 3 * n, presentation_format='table')\n",
    "submit_test('dobro.test', fnc=vezes_2, presentation_format='text')"
   ]
  }
 ],
 "metadata": {
  "kernelspec": {
   "display_name": "Python 3",
   "language": "python",
   "name": "python3"
  },
  "language_info": {
   "codemirror_mode": {
    "name": "ipython",
    "version": 3
   },
   "file_extension": ".py",
   "mimetype": "text/x-python",
   "name": "python",
   "nbconvert_exporter": "python",
   "pygments_lexer": "ipython3",
   "version": "3.6.0"
  },
  "latex_envs": {
   "LaTeX_envs_menu_present": true,
   "autocomplete": true,
   "bibliofile": "biblio.bib",
   "cite_by": "apalike",
   "current_citInitial": 1,
   "eqLabelWithNumbers": true,
   "eqNumInitial": 1,
   "hotkeys": {
    "equation": "Ctrl-E",
    "itemize": "Ctrl-I"
   },
   "labels_anchors": false,
   "latex_user_defs": false,
   "report_style_numbering": false,
   "user_envs_cfg": false
  },
  "toc": {
   "colors": {
    "hover_highlight": "#DAA520",
    "navigate_num": "#000000",
    "navigate_text": "#333333",
    "running_highlight": "#FF0000",
    "selected_highlight": "#FFD700",
    "sidebar_border": "#EEEEEE",
    "wrapper_background": "#FFFFFF"
   },
   "moveMenuLeft": true,
   "nav_menu": {
    "height": "12px",
    "width": "252px"
   },
   "navigate_menu": true,
   "number_sections": true,
   "sideBar": true,
   "threshold": 4,
   "toc_cell": false,
   "toc_section_display": "block",
   "toc_window_display": false,
   "widenNotebook": false
  }
 },
 "nbformat": 4,
 "nbformat_minor": 2
}
