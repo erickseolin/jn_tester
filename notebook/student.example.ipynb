{
 "cells": [
  {
   "cell_type": "code",
   "execution_count": 1,
   "metadata": {
    "ExecuteTime": {
     "end_time": "2017-08-13T03:06:25.493026Z",
     "start_time": "2017-08-13T03:06:25.190019Z"
    },
    "collapsed": true
   },
   "outputs": [],
   "source": [
    "import os\n",
    "import sys\n",
    "\n",
    "from jn_tester.student.test import run_test, submit_test"
   ]
  },
  {
   "cell_type": "code",
   "execution_count": 5,
   "metadata": {
    "ExecuteTime": {
     "end_time": "2017-08-13T03:09:39.830315Z",
     "start_time": "2017-08-13T03:09:39.826428Z"
    },
    "collapsed": true
   },
   "outputs": [],
   "source": [
    "def vezes_2(n):\n",
    "    return 2 * n\n",
    "\n",
    "def vezes_2b(n):\n",
    "    return n * 2"
   ]
  },
  {
   "cell_type": "code",
   "execution_count": 3,
   "metadata": {
    "ExecuteTime": {
     "end_time": "2017-08-13T03:06:26.153246Z",
     "start_time": "2017-08-13T03:06:25.730100Z"
    }
   },
   "outputs": [
    {
     "name": "stdout",
     "output_type": "stream",
     "text": [
      "{'results': [1.0, 0.0, 0.0], 'performance': [{'time': 0.004687, 'memory': 91.16}, {'time': 0.008878, 'memory': 91.17}, {'time': 0.004741, 'memory': 91.17}]}\n",
      "{'results': [1.0, 1.0, 1.0], 'performance': [{'time': 0.001836, 'memory': 91.19}, {'time': 0.00432, 'memory': 91.19}, {'time': 0.003459, 'memory': 91.19}]}\n",
      "{'results': [0.0, 0.0, 0.0], 'performance': [{'time': 0.0033, 'memory': 91.19}, {'time': 0.004205, 'memory': 91.19}, {'time': 0.004506, 'memory': 91.19}]}\n"
     ]
    }
   ],
   "source": [
    "print(run_test('dobro', fnc=lambda n: 2 ** n))\n",
    "print(run_test('dobro', fnc=lambda n: 2 * n))\n",
    "print(run_test('dobro', fnc=lambda n: 3 * n))"
   ]
  },
  {
   "cell_type": "code",
   "execution_count": 6,
   "metadata": {
    "ExecuteTime": {
     "end_time": "2017-08-13T03:09:42.311888Z",
     "start_time": "2017-08-13T03:09:41.928995Z"
    }
   },
   "outputs": [
    {
     "name": "stdout",
     "output_type": "stream",
     "text": [
      "\n",
      "Showing results: <lambda>\n",
      "--------------------\n",
      "Final score:  100%\n"
     ]
    },
    {
     "data": {
      "text/html": [
       "<div>\n",
       "<table border=\"1\" class=\"dataframe\">\n",
       "  <thead>\n",
       "    <tr style=\"text-align: right;\">\n",
       "      <th></th>\n",
       "      <th>Score</th>\n",
       "      <th>Time</th>\n",
       "      <th>Memory</th>\n",
       "    </tr>\n",
       "  </thead>\n",
       "  <tbody>\n",
       "    <tr>\n",
       "      <th>Test 1</th>\n",
       "      <td>100%</td>\n",
       "      <td>0.001915 ms</td>\n",
       "      <td>92.27 Mb</td>\n",
       "    </tr>\n",
       "    <tr>\n",
       "      <th>Test 2</th>\n",
       "      <td>100%</td>\n",
       "      <td>0.004682 ms</td>\n",
       "      <td>92.27 Mb</td>\n",
       "    </tr>\n",
       "    <tr>\n",
       "      <th>Test 3</th>\n",
       "      <td>100%</td>\n",
       "      <td>0.003192 ms</td>\n",
       "      <td>92.27 Mb</td>\n",
       "    </tr>\n",
       "  </tbody>\n",
       "</table>\n",
       "</div>"
      ],
      "text/plain": [
       "       Score         Time    Memory\n",
       "Test 1  100%  0.001915 ms  92.27 Mb\n",
       "Test 2  100%  0.004682 ms  92.27 Mb\n",
       "Test 3  100%  0.003192 ms  92.27 Mb"
      ]
     },
     "metadata": {},
     "output_type": "display_data"
    },
    {
     "name": "stdout",
     "output_type": "stream",
     "text": [
      "\n",
      "Showing results: <lambda>\n",
      "--------------------\n",
      "Final score:  0%\n"
     ]
    },
    {
     "data": {
      "text/html": [
       "<div>\n",
       "<table border=\"1\" class=\"dataframe\">\n",
       "  <thead>\n",
       "    <tr style=\"text-align: right;\">\n",
       "      <th></th>\n",
       "      <th>Score</th>\n",
       "      <th>Time</th>\n",
       "      <th>Memory</th>\n",
       "    </tr>\n",
       "  </thead>\n",
       "  <tbody>\n",
       "    <tr>\n",
       "      <th>Test 1</th>\n",
       "      <td>0%</td>\n",
       "      <td>0.002109 ms</td>\n",
       "      <td>92.28 Mb</td>\n",
       "    </tr>\n",
       "    <tr>\n",
       "      <th>Test 2</th>\n",
       "      <td>0%</td>\n",
       "      <td>0.004437 ms</td>\n",
       "      <td>92.28 Mb</td>\n",
       "    </tr>\n",
       "    <tr>\n",
       "      <th>Test 3</th>\n",
       "      <td>0%</td>\n",
       "      <td>0.004587 ms</td>\n",
       "      <td>92.28 Mb</td>\n",
       "    </tr>\n",
       "  </tbody>\n",
       "</table>\n",
       "</div>"
      ],
      "text/plain": [
       "       Score         Time    Memory\n",
       "Test 1    0%  0.002109 ms  92.28 Mb\n",
       "Test 2    0%  0.004437 ms  92.28 Mb\n",
       "Test 3    0%  0.004587 ms  92.28 Mb"
      ]
     },
     "metadata": {},
     "output_type": "display_data"
    },
    {
     "name": "stdout",
     "output_type": "stream",
     "text": [
      "\n",
      "Showing results: vezes_2\n",
      "--------------------\n",
      "Final score:  100%\n",
      "1 :  [1.0/1.0] => OK\n",
      " - time:  0.002199  ms\n",
      " - memory:  92.3  Mb\n",
      "2 :  [1.0/1.0] => OK\n",
      " - time:  0.006411  ms\n",
      " - memory:  92.3  Mb\n",
      "3 :  [1.0/1.0] => OK\n",
      " - time:  0.003104  ms\n",
      " - memory:  92.3  Mb\n"
     ]
    }
   ],
   "source": [
    "submit_test('dobro', fnc=lambda n: 2 * n, presentation_format='table')\n",
    "submit_test('dobro', fnc=lambda n: 3 * n, presentation_format='table')\n",
    "submit_test('dobro', fnc=vezes_2, presentation_format='text')"
   ]
  },
  {
   "cell_type": "code",
   "execution_count": null,
   "metadata": {
    "collapsed": true
   },
   "outputs": [],
   "source": []
  }
 ],
 "metadata": {
  "kernelspec": {
   "display_name": "Python 3",
   "language": "python",
   "name": "python3"
  },
  "language_info": {
   "codemirror_mode": {
    "name": "ipython",
    "version": 3
   },
   "file_extension": ".py",
   "mimetype": "text/x-python",
   "name": "python",
   "nbconvert_exporter": "python",
   "pygments_lexer": "ipython3",
   "version": "3.6.1"
  },
  "latex_envs": {
   "LaTeX_envs_menu_present": true,
   "autocomplete": true,
   "bibliofile": "biblio.bib",
   "cite_by": "apalike",
   "current_citInitial": 1,
   "eqLabelWithNumbers": true,
   "eqNumInitial": 1,
   "hotkeys": {
    "equation": "Ctrl-E",
    "itemize": "Ctrl-I"
   },
   "labels_anchors": false,
   "latex_user_defs": false,
   "report_style_numbering": false,
   "user_envs_cfg": false
  },
  "toc": {
   "colors": {
    "hover_highlight": "#DAA520",
    "running_highlight": "#FF0000",
    "selected_highlight": "#FFD700"
   },
   "moveMenuLeft": true,
   "nav_menu": {
    "height": "12px",
    "width": "252px"
   },
   "navigate_menu": true,
   "number_sections": true,
   "sideBar": true,
   "threshold": 4,
   "toc_cell": false,
   "toc_section_display": "block",
   "toc_window_display": false,
   "widenNotebook": false
  }
 },
 "nbformat": 4,
 "nbformat_minor": 1
}
