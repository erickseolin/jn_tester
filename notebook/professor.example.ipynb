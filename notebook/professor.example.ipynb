{
 "cells": [
  {
   "cell_type": "code",
   "execution_count": 6,
   "metadata": {
    "ExecuteTime": {
     "end_time": "2017-07-26T12:12:01.383311Z",
     "start_time": "2017-07-26T12:12:01.379237Z"
    },
    "collapsed": true
   },
   "outputs": [],
   "source": [
    "import os\n",
    "import sys\n",
    "# To run this notebook inside here, we add the project to sys.path\n",
    "sys.path.append('/'.join(os.getcwd().split('/')[:-1]))\n",
    "\n",
    "from jn_tester.professor.models import TestCase, TestSet\n",
    "from jn_tester.professor.tables import view_complete_table, export_complete_table"
   ]
  },
  {
   "cell_type": "code",
   "execution_count": 7,
   "metadata": {
    "ExecuteTime": {
     "end_time": "2017-07-26T12:12:01.676009Z",
     "start_time": "2017-07-26T12:12:01.673281Z"
    },
    "collapsed": true
   },
   "outputs": [],
   "source": [
    "test_name = 'dobro'\n",
    "test_path = '/home/rdenadai/programas/vagrant_img/vagrant.machine.puphpet/projetos/jn_tester/'\n",
    "sort = [('author', True), ('rank', True)]"
   ]
  },
  {
   "cell_type": "code",
   "execution_count": 8,
   "metadata": {
    "ExecuteTime": {
     "end_time": "2017-07-26T12:12:02.113799Z",
     "start_time": "2017-07-26T12:12:02.105033Z"
    },
    "collapsed": true
   },
   "outputs": [],
   "source": [
    "def equal(x, y):\n",
    "    return 1.0 if x == y else 0.0\n",
    "\n",
    "def double(b):\n",
    "    return 2*b\n",
    "\n",
    "# Simple test\n",
    "test = TestSet()\n",
    "test.add_new_test_case(TestCase(2, 4, assert_function=lambda x, y: 1.0 if x == y else 0.0))\n",
    "test.add_new_test_case(TestCase({'n': 6}, 12, assert_function=equal))\n",
    "test.add_new_test_case(TestCase({'n': 4}, 8, assert_function=equal))\n",
    "test.save('dobro')"
   ]
  },
  {
   "cell_type": "code",
   "execution_count": 10,
   "metadata": {
    "ExecuteTime": {
     "end_time": "2017-07-26T12:12:14.380402Z",
     "start_time": "2017-07-26T12:12:14.361793Z"
    },
    "scrolled": false
   },
   "outputs": [
    {
     "data": {
      "text/html": [
       "<div>\n",
       "<style>\n",
       "    .dataframe thead tr:only-child th {\n",
       "        text-align: right;\n",
       "    }\n",
       "\n",
       "    .dataframe thead th {\n",
       "        text-align: left;\n",
       "    }\n",
       "\n",
       "    .dataframe tbody tr th {\n",
       "        vertical-align: top;\n",
       "    }\n",
       "</style>\n",
       "<table border=\"1\" class=\"dataframe\">\n",
       "  <thead>\n",
       "    <tr style=\"text-align: right;\">\n",
       "      <th></th>\n",
       "      <th>Function Ranking</th>\n",
       "      <th>Function</th>\n",
       "      <th>Author</th>\n",
       "      <th>Test 1: Score</th>\n",
       "      <th>Test 1: Time (ms)</th>\n",
       "      <th>Test 2: Score</th>\n",
       "      <th>Test 2: Time (ms)</th>\n",
       "      <th>Test 3: Score</th>\n",
       "      <th>Test 3: Time (ms)</th>\n",
       "      <th>Mean Time (ms)</th>\n",
       "      <th>Final Score</th>\n",
       "    </tr>\n",
       "  </thead>\n",
       "  <tbody>\n",
       "    <tr>\n",
       "      <th>0</th>\n",
       "      <td>1</td>\n",
       "      <td>&lt;lambda&gt;</td>\n",
       "      <td>rdenadai</td>\n",
       "      <td>1.00</td>\n",
       "      <td>0.002</td>\n",
       "      <td>1.00</td>\n",
       "      <td>0.003</td>\n",
       "      <td>1.00</td>\n",
       "      <td>0.003</td>\n",
       "      <td>0.003</td>\n",
       "      <td>1.00</td>\n",
       "    </tr>\n",
       "    <tr>\n",
       "      <th>1</th>\n",
       "      <td>2</td>\n",
       "      <td>vezes_2</td>\n",
       "      <td>rdenadai</td>\n",
       "      <td>1.00</td>\n",
       "      <td>0.002</td>\n",
       "      <td>1.00</td>\n",
       "      <td>0.003</td>\n",
       "      <td>1.00</td>\n",
       "      <td>0.003</td>\n",
       "      <td>0.003</td>\n",
       "      <td>1.00</td>\n",
       "    </tr>\n",
       "    <tr>\n",
       "      <th>2</th>\n",
       "      <td>3</td>\n",
       "      <td>&lt;lambda&gt;</td>\n",
       "      <td>rdenadai</td>\n",
       "      <td>0.00</td>\n",
       "      <td>0.002</td>\n",
       "      <td>0.00</td>\n",
       "      <td>0.004</td>\n",
       "      <td>0.00</td>\n",
       "      <td>0.003</td>\n",
       "      <td>0.003</td>\n",
       "      <td>0.00</td>\n",
       "    </tr>\n",
       "  </tbody>\n",
       "</table>\n",
       "</div>"
      ],
      "text/plain": [
       "   Function Ranking  Function    Author Test 1: Score Test 1: Time (ms)  \\\n",
       "0                 1  <lambda>  rdenadai          1.00             0.002   \n",
       "1                 2   vezes_2  rdenadai          1.00             0.002   \n",
       "2                 3  <lambda>  rdenadai          0.00             0.002   \n",
       "\n",
       "  Test 2: Score Test 2: Time (ms) Test 3: Score Test 3: Time (ms)  \\\n",
       "0          1.00             0.003          1.00             0.003   \n",
       "1          1.00             0.003          1.00             0.003   \n",
       "2          0.00             0.004          0.00             0.003   \n",
       "\n",
       "  Mean Time (ms) Final Score  \n",
       "0          0.003        1.00  \n",
       "1          0.003        1.00  \n",
       "2          0.003        0.00  "
      ]
     },
     "metadata": {},
     "output_type": "display_data"
    }
   ],
   "source": [
    "view_complete_table(test_name, test_path, sort_by=sort)"
   ]
  },
  {
   "cell_type": "code",
   "execution_count": 11,
   "metadata": {
    "ExecuteTime": {
     "end_time": "2017-07-26T12:12:15.924096Z",
     "start_time": "2017-07-26T12:12:15.881407Z"
    }
   },
   "outputs": [],
   "source": [
    "export_complete_table(test_name, test_path, sort_by=sort, export_format='pkl')\n",
    "export_complete_table(test_name, test_path, sort_by=sort)\n",
    "export_complete_table(test_name, test_path, sort_by=sort, export_format='html')"
   ]
  },
  {
   "cell_type": "code",
   "execution_count": null,
   "metadata": {
    "collapsed": true
   },
   "outputs": [],
   "source": []
  }
 ],
 "metadata": {
  "kernelspec": {
   "display_name": "Python 3",
   "language": "python",
   "name": "python3"
  },
  "language_info": {
   "codemirror_mode": {
    "name": "ipython",
    "version": 3
   },
   "file_extension": ".py",
   "mimetype": "text/x-python",
   "name": "python",
   "nbconvert_exporter": "python",
   "pygments_lexer": "ipython3",
   "version": "3.6.2"
  },
  "toc": {
   "colors": {
    "hover_highlight": "#DAA520",
    "navigate_num": "#000000",
    "navigate_text": "#333333",
    "running_highlight": "#FF0000",
    "selected_highlight": "#FFD700",
    "sidebar_border": "#EEEEEE",
    "wrapper_background": "#FFFFFF"
   },
   "moveMenuLeft": true,
   "nav_menu": {
    "height": "12px",
    "width": "252px"
   },
   "navigate_menu": true,
   "number_sections": true,
   "sideBar": true,
   "threshold": 4,
   "toc_cell": false,
   "toc_section_display": "block",
   "toc_window_display": false,
   "widenNotebook": false
  }
 },
 "nbformat": 4,
 "nbformat_minor": 1
}
