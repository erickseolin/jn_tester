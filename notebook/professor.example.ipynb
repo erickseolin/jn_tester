{
 "cells": [
  {
   "cell_type": "markdown",
   "metadata": {},
   "source": [
    "# Example for the professor usage"
   ]
  },
  {
   "cell_type": "code",
   "execution_count": 1,
   "metadata": {
    "ExecuteTime": {
     "end_time": "2017-08-22T01:29:08.831901Z",
     "start_time": "2017-08-22T01:29:08.545584Z"
    },
    "collapsed": true
   },
   "outputs": [],
   "source": [
    "import os\n",
    "import sys\n",
    "\n",
    "from jn_tester.professor.models import TestSet\n",
    "from jn_tester.professor.tables import view_complete_table, export_complete_table"
   ]
  },
  {
   "cell_type": "code",
   "execution_count": 2,
   "metadata": {
    "ExecuteTime": {
     "end_time": "2017-08-22T01:29:08.836083Z",
     "start_time": "2017-08-22T01:29:08.833239Z"
    },
    "collapsed": true
   },
   "outputs": [],
   "source": [
    "test_name = 'double'\n",
    "test_path = './'\n",
    "sort = [('time', True), ('rank', True)]"
   ]
  },
  {
   "cell_type": "code",
   "execution_count": 3,
   "metadata": {
    "ExecuteTime": {
     "end_time": "2017-08-22T01:29:08.922746Z",
     "start_time": "2017-08-22T01:29:08.837461Z"
    }
   },
   "outputs": [],
   "source": [
    "def equal(x, y):\n",
    "    return 1.0 if x == y else 0.0\n",
    "\n",
    "def double(b):\n",
    "    return 2*b\n",
    "\n",
    "# Simple test\n",
    "test = TestSet()\n",
    "test.add_test(2, 4, assert_function=lambda x, y: 1.0 if x == y else 0.0)\n",
    "test.add_test({'n': 6}, 12, assert_function=equal)\n",
    "test.add_closed_test({'n': 4}, 8, assert_function=equal)\n",
    "test.save(test_name)"
   ]
  },
  {
   "cell_type": "code",
   "execution_count": 4,
   "metadata": {
    "ExecuteTime": {
     "end_time": "2017-08-22T01:29:09.068975Z",
     "start_time": "2017-08-22T01:29:08.923895Z"
    },
    "scrolled": false
   },
   "outputs": [
    {
     "data": {
      "text/html": [
       "<div>\n",
       "<table border=\"1\" class=\"dataframe\">\n",
       "  <thead>\n",
       "    <tr style=\"text-align: right;\">\n",
       "      <th></th>\n",
       "      <th>Function Ranking</th>\n",
       "      <th>Function</th>\n",
       "      <th>Author</th>\n",
       "      <th>Test 1: Score</th>\n",
       "      <th>Test 1: Time (ms)</th>\n",
       "      <th>Test 2: Score</th>\n",
       "      <th>Test 2: Time (ms)</th>\n",
       "      <th>Test 3: Score</th>\n",
       "      <th>Test 3: Time (ms)</th>\n",
       "      <th>Mean Time (ms)</th>\n",
       "      <th>Final Score</th>\n",
       "    </tr>\n",
       "  </thead>\n",
       "  <tbody>\n",
       "    <tr>\n",
       "      <th>0</th>\n",
       "      <td>1</td>\n",
       "      <td>my_double2</td>\n",
       "      <td>erick</td>\n",
       "      <td>1.00</td>\n",
       "      <td>0.004</td>\n",
       "      <td>1.00</td>\n",
       "      <td>0.004</td>\n",
       "      <td>1.00</td>\n",
       "      <td>0.004</td>\n",
       "      <td>0.004</td>\n",
       "      <td>1.00</td>\n",
       "    </tr>\n",
       "    <tr>\n",
       "      <th>1</th>\n",
       "      <td>2</td>\n",
       "      <td>my_double</td>\n",
       "      <td>erick</td>\n",
       "      <td>1.00</td>\n",
       "      <td>0.002</td>\n",
       "      <td>1.00</td>\n",
       "      <td>0.006</td>\n",
       "      <td>1.00</td>\n",
       "      <td>0.007</td>\n",
       "      <td>0.005</td>\n",
       "      <td>1.00</td>\n",
       "    </tr>\n",
       "    <tr>\n",
       "      <th>2</th>\n",
       "      <td>3</td>\n",
       "      <td>my_double3</td>\n",
       "      <td>erick</td>\n",
       "      <td>1.00</td>\n",
       "      <td>0.005</td>\n",
       "      <td>0.00</td>\n",
       "      <td>0.008</td>\n",
       "      <td>0.00</td>\n",
       "      <td>0.007</td>\n",
       "      <td>0.007</td>\n",
       "      <td>0.33</td>\n",
       "    </tr>\n",
       "  </tbody>\n",
       "</table>\n",
       "</div>"
      ],
      "text/plain": [
       "   Function Ranking    Function Author Test 1: Score Test 1: Time (ms) Test 2: Score Test 2: Time (ms) Test 3: Score Test 3: Time (ms) Mean Time (ms) Final Score\n",
       "0                 1  my_double2  erick          1.00             0.004          1.00             0.004          1.00             0.004          0.004        1.00\n",
       "1                 2   my_double  erick          1.00             0.002          1.00             0.006          1.00             0.007          0.005        1.00\n",
       "2                 3  my_double3  erick          1.00             0.005          0.00             0.008          0.00             0.007          0.007        0.33"
      ]
     },
     "metadata": {},
     "output_type": "display_data"
    }
   ],
   "source": [
    "view_complete_table(test_name, test_path, sort_by=sort)"
   ]
  },
  {
   "cell_type": "code",
   "execution_count": 5,
   "metadata": {
    "ExecuteTime": {
     "end_time": "2017-08-22T01:29:09.133414Z",
     "start_time": "2017-08-22T01:29:09.070331Z"
    }
   },
   "outputs": [],
   "source": [
    "export_complete_table(test_name, test_path, sort_by=sort, export_format='pkl')\n",
    "export_complete_table(test_name, test_path, sort_by=sort)\n",
    "export_complete_table(test_name, test_path, sort_by=sort, export_format='html')"
   ]
  },
  {
   "cell_type": "code",
   "execution_count": null,
   "metadata": {
    "collapsed": true
   },
   "outputs": [],
   "source": []
  }
 ],
 "metadata": {
  "kernelspec": {
   "display_name": "Python 3",
   "language": "python",
   "name": "python3"
  },
  "language_info": {
   "codemirror_mode": {
    "name": "ipython",
    "version": 3
   },
   "file_extension": ".py",
   "mimetype": "text/x-python",
   "name": "python",
   "nbconvert_exporter": "python",
   "pygments_lexer": "ipython3",
   "version": "3.6.1"
  },
  "toc": {
   "colors": {
    "hover_highlight": "#DAA520",
    "running_highlight": "#FF0000",
    "selected_highlight": "#FFD700"
   },
   "moveMenuLeft": true,
   "nav_menu": {
    "height": "12px",
    "width": "252px"
   },
   "navigate_menu": true,
   "number_sections": true,
   "sideBar": true,
   "threshold": 4,
   "toc_cell": false,
   "toc_section_display": "block",
   "toc_window_display": false,
   "widenNotebook": false
  }
 },
 "nbformat": 4,
 "nbformat_minor": 1
}
