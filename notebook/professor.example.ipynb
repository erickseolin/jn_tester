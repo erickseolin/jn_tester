{
 "cells": [
  {
   "cell_type": "code",
   "execution_count": 11,
   "metadata": {
    "ExecuteTime": {
     "end_time": "2017-07-21T17:51:12.444667Z",
     "start_time": "2017-07-21T17:51:12.440591Z"
    }
   },
   "outputs": [],
   "source": [
    "import os\n",
    "import sys\n",
    "# To run this notebook inside here, we add the project to sys.path\n",
    "sys.path.append('/'.join(os.getcwd().split('/')[:-1]))\n",
    "\n",
    "from jn_tester.professor.models import TestCase, TestSet\n",
    "from jn_tester.professor.tables import view_complete_table, export_complete_table"
   ]
  },
  {
   "cell_type": "code",
   "execution_count": 12,
   "metadata": {
    "ExecuteTime": {
     "end_time": "2017-07-21T17:51:13.064601Z",
     "start_time": "2017-07-21T17:51:13.061865Z"
    },
    "collapsed": true
   },
   "outputs": [],
   "source": [
    "test_name = 'dobro'\n",
    "test_path = '/home/rdenadai/programas/vagrant_img/vagrant.machine.puphpet/projetos/jn_tester/'\n",
    "sort = [('author', True), ('rank', True)]"
   ]
  },
  {
   "cell_type": "code",
   "execution_count": 13,
   "metadata": {
    "ExecuteTime": {
     "end_time": "2017-07-21T17:51:13.366455Z",
     "start_time": "2017-07-21T17:51:13.357805Z"
    },
    "collapsed": true
   },
   "outputs": [],
   "source": [
    "def equal(x, y):\n",
    "    return 1.0 if x == y else 0.0\n",
    "\n",
    "def double(b):\n",
    "    return 2*b\n",
    "\n",
    "# Simple test\n",
    "test = TestSet()\n",
    "test.add_new_test_case(TestCase(2, 4, assert_function=lambda x, y: 1.0 if x == y else 0.0))\n",
    "test.add_new_test_case(TestCase({'n': 6}, 12, assert_function=equal))\n",
    "test.add_new_test_case(TestCase({'n': 4}, 8, assert_function=equal))\n",
    "test.save('dobro')"
   ]
  },
  {
   "cell_type": "code",
   "execution_count": 14,
   "metadata": {
    "ExecuteTime": {
     "end_time": "2017-07-21T17:51:13.679946Z",
     "start_time": "2017-07-21T17:51:13.676582Z"
    },
    "scrolled": false
   },
   "outputs": [
    {
     "name": "stdout",
     "output_type": "stream",
     "text": [
      "No results...\n"
     ]
    }
   ],
   "source": [
    "view_complete_table(test_name, test_path, sort_by=sort)"
   ]
  },
  {
   "cell_type": "code",
   "execution_count": 15,
   "metadata": {
    "ExecuteTime": {
     "end_time": "2017-07-21T17:51:15.074952Z",
     "start_time": "2017-07-21T17:51:15.062295Z"
    }
   },
   "outputs": [
    {
     "name": "stdout",
     "output_type": "stream",
     "text": [
      "No results...\n",
      "Not data could be export... please visualize the DataFrame to see if results are ok.\n",
      "No results...\n",
      "Not data could be export... please visualize the DataFrame to see if results are ok.\n",
      "No results...\n",
      "Not data could be export... please visualize the DataFrame to see if results are ok.\n"
     ]
    }
   ],
   "source": [
    "export_complete_table(test_name, test_path, sort_by=sort, export_format='pkl')\n",
    "export_complete_table(test_name, test_path, sort_by=sort)\n",
    "export_complete_table(test_name, test_path, sort_by=sort, export_format='html')"
   ]
  },
  {
   "cell_type": "code",
   "execution_count": null,
   "metadata": {
    "collapsed": true
   },
   "outputs": [],
   "source": []
  }
 ],
 "metadata": {
  "kernelspec": {
   "display_name": "Python 3",
   "language": "python",
   "name": "python3"
  },
  "language_info": {
   "codemirror_mode": {
    "name": "ipython",
    "version": 3
   },
   "file_extension": ".py",
   "mimetype": "text/x-python",
   "name": "python",
   "nbconvert_exporter": "python",
   "pygments_lexer": "ipython3",
   "version": "3.6.2"
  },
  "toc": {
   "colors": {
    "hover_highlight": "#DAA520",
    "navigate_num": "#000000",
    "navigate_text": "#333333",
    "running_highlight": "#FF0000",
    "selected_highlight": "#FFD700",
    "sidebar_border": "#EEEEEE",
    "wrapper_background": "#FFFFFF"
   },
   "moveMenuLeft": true,
   "nav_menu": {
    "height": "12px",
    "width": "252px"
   },
   "navigate_menu": true,
   "number_sections": true,
   "sideBar": true,
   "threshold": 4,
   "toc_cell": false,
   "toc_section_display": "block",
   "toc_window_display": false,
   "widenNotebook": false
  }
 },
 "nbformat": 4,
 "nbformat_minor": 1
}
